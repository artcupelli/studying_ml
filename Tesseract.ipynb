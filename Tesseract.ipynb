{
 "cells": [
  {
   "cell_type": "code",
   "execution_count": 5,
   "metadata": {},
   "outputs": [],
   "source": [
    "import os\n",
    "import pytesseract\n",
    "import re"
   ]
  },
  {
   "cell_type": "code",
   "execution_count": 2,
   "metadata": {},
   "outputs": [
    {
     "data": {
      "text/plain": [
       "['Q1.png',\n",
       " 'Q2.png',\n",
       " 'Q3.png',\n",
       " 'Q4.png',\n",
       " 'Q5.png',\n",
       " 'Q6.png',\n",
       " 'Q7.png',\n",
       " 'Q8.png',\n",
       " 'Q9.png']"
      ]
     },
     "execution_count": 2,
     "metadata": {},
     "output_type": "execute_result"
    }
   ],
   "source": [
    "PATH_01_09 = r\"C:\\Users\\artur\\OneDrive\\Área de Trabalho\\PROVA CD\\Prova_Ana_CD\\Estatística e SQL\"\n",
    "questions_01_09 = os.listdir(PATH_01_09)\n",
    "questions_01_09"
   ]
  },
  {
   "cell_type": "code",
   "execution_count": 33,
   "metadata": {},
   "outputs": [],
   "source": [
    "result = pytesseract.image_to_string(os.path.join(PATH_01_09, questions_01_09[0]))\n",
    "question = re.search(r'(?<=\\)).+(?=SELECIONE)', result.replace('\\n', ' ').upper()).group().strip()"
   ]
  },
  {
   "cell_type": "code",
   "execution_count": 41,
   "metadata": {},
   "outputs": [
    {
     "data": {
      "text/plain": [
       "['\\n\\nPERGUNTA 1 DE 37',\n",
       " '\\n\\n(0.2 ponto) Uma cidade com 200 mil habitantes foi dividida em 30 bairros distintos. Por meio de um sorteio, foram',\n",
       " '\\n\\nSELECIONE 1 oP GAO @',\n",
       " '\\n\\nAleatéria Simples',\n",
       " '\\n\\nEstratificada',\n",
       " '\\n\\n@ Por conglomerado',\n",
       " '\\n\\nSistematica',\n",
       " '\\n\\nNao quero responder']"
      ]
     },
     "execution_count": 41,
     "metadata": {},
     "output_type": "execute_result"
    }
   ],
   "source": [
    "answers = re.sub('.+SELECIONE', '', result)\n",
    "answers = re.findall(r'\\n\\n.+(?=\\n)', result)\n",
    "answers"
   ]
  },
  {
   "cell_type": "code",
   "execution_count": 68,
   "metadata": {},
   "outputs": [
    {
     "ename": "IndexError",
     "evalue": "list index out of range",
     "output_type": "error",
     "traceback": [
      "\u001b[1;31m---------------------------------------------------------------------------\u001b[0m",
      "\u001b[1;31mIndexError\u001b[0m                                Traceback (most recent call last)",
      "Cell \u001b[1;32mIn[68], line 2\u001b[0m\n\u001b[0;32m      1\u001b[0m \u001b[38;5;66;03m# re.findall('ITA.+SELECIONE.+\\n', '', ), result\u001b[39;00m\n\u001b[1;32m----> 2\u001b[0m \u001b[43mre\u001b[49m\u001b[38;5;241;43m.\u001b[39;49m\u001b[43mfindall\u001b[49m\u001b[43m(\u001b[49m\u001b[38;5;124;43m'\u001b[39;49m\u001b[38;5;124;43mSELECIONE.\u001b[39;49m\u001b[38;5;130;43;01m\\n\u001b[39;49;00m\u001b[38;5;124;43m+\u001b[39;49m\u001b[38;5;124;43m'\u001b[39;49m\u001b[43m,\u001b[49m\u001b[43m \u001b[49m\u001b[43mresult\u001b[49m\u001b[43m)\u001b[49m\u001b[43m[\u001b[49m\u001b[38;5;241;43m0\u001b[39;49m\u001b[43m]\u001b[49m\n",
      "\u001b[1;31mIndexError\u001b[0m: list index out of range"
     ]
    }
   ],
   "source": [
    "# re.findall('ITA.+SELECIONE.+\\n', '', ), result\n",
    "re.findall('SELECIONE.\\n+', result)[0]"
   ]
  },
  {
   "cell_type": "code",
   "execution_count": 21,
   "metadata": {},
   "outputs": [
    {
     "data": {
      "text/plain": [
       "'C:\\\\Users\\\\artur\\\\OneDrive\\\\Área de Trabalho\\\\PROVA CD\\\\Prova_Ana_CD\\\\Estatística e SQL\\\\Q1.png'"
      ]
     },
     "execution_count": 21,
     "metadata": {},
     "output_type": "execute_result"
    }
   ],
   "source": [
    "os.path.join(PATH_01_09, questions_01_09[0])"
   ]
  },
  {
   "cell_type": "code",
   "execution_count": 22,
   "metadata": {},
   "outputs": [
    {
     "data": {
      "text/plain": [
       "'ita unibanco - cientista de dados37 perguntaspergunta 1 de 37(0.2 ponto) uma cidade com 200 mil habitantes foi dividida em 30 bairros distintos. por meio de um sorteio, foramselecionados 15 bairros e todos os moradores desses bairros foram entrevistados. esse tipo de delineamento écaracteristico de uma amostragem:selecione 1 op gao @aleatéria simplesestratificada@ por conglomeradosistematicanao quero responder'"
      ]
     },
     "execution_count": 22,
     "metadata": {},
     "output_type": "execute_result"
    }
   ],
   "source": [
    "result.replace('\\n', '').lower()"
   ]
  },
  {
   "cell_type": "code",
   "execution_count": null,
   "metadata": {},
   "outputs": [],
   "source": []
  }
 ],
 "metadata": {
  "kernelspec": {
   "display_name": "venv",
   "language": "python",
   "name": "python3"
  },
  "language_info": {
   "codemirror_mode": {
    "name": "ipython",
    "version": 3
   },
   "file_extension": ".py",
   "mimetype": "text/x-python",
   "name": "python",
   "nbconvert_exporter": "python",
   "pygments_lexer": "ipython3",
   "version": "3.10.0"
  }
 },
 "nbformat": 4,
 "nbformat_minor": 2
}
