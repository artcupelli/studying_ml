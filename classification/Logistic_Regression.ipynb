{
 "cells": [
  {
   "cell_type": "code",
   "execution_count": 1,
   "metadata": {},
   "outputs": [],
   "source": [
    "import numpy as np\n",
    "import pandas as pd\n",
    "import plotly.io as pio\n",
    "import plotly.express as px\n",
    "import plotly.graph_objects as go\n",
    "from sklearn.linear_model import LogisticRegression\n",
    "from sklearn.linear_model import LinearRegression\n",
    "from sklearn.preprocessing import PolynomialFeatures\n",
    "\n",
    "pio.templates.default = \"plotly_dark\""
   ]
  },
  {
   "cell_type": "code",
   "execution_count": 2,
   "metadata": {},
   "outputs": [
    {
     "data": {
      "text/html": [
       "<div>\n",
       "<style scoped>\n",
       "    .dataframe tbody tr th:only-of-type {\n",
       "        vertical-align: middle;\n",
       "    }\n",
       "\n",
       "    .dataframe tbody tr th {\n",
       "        vertical-align: top;\n",
       "    }\n",
       "\n",
       "    .dataframe thead th {\n",
       "        text-align: right;\n",
       "    }\n",
       "</style>\n",
       "<table border=\"1\" class=\"dataframe\">\n",
       "  <thead>\n",
       "    <tr style=\"text-align: right;\">\n",
       "      <th></th>\n",
       "      <th>User ID</th>\n",
       "      <th>Gender</th>\n",
       "      <th>Age</th>\n",
       "      <th>EstimatedSalary</th>\n",
       "      <th>Purchased</th>\n",
       "    </tr>\n",
       "  </thead>\n",
       "  <tbody>\n",
       "    <tr>\n",
       "      <th>0</th>\n",
       "      <td>15610140</td>\n",
       "      <td>Female</td>\n",
       "      <td>31</td>\n",
       "      <td>15000</td>\n",
       "      <td>0</td>\n",
       "    </tr>\n",
       "    <tr>\n",
       "      <th>1</th>\n",
       "      <td>15792008</td>\n",
       "      <td>Male</td>\n",
       "      <td>30</td>\n",
       "      <td>15000</td>\n",
       "      <td>0</td>\n",
       "    </tr>\n",
       "    <tr>\n",
       "      <th>2</th>\n",
       "      <td>15809823</td>\n",
       "      <td>Male</td>\n",
       "      <td>26</td>\n",
       "      <td>15000</td>\n",
       "      <td>0</td>\n",
       "    </tr>\n",
       "    <tr>\n",
       "      <th>3</th>\n",
       "      <td>15679651</td>\n",
       "      <td>Female</td>\n",
       "      <td>26</td>\n",
       "      <td>15000</td>\n",
       "      <td>0</td>\n",
       "    </tr>\n",
       "    <tr>\n",
       "      <th>4</th>\n",
       "      <td>15685576</td>\n",
       "      <td>Male</td>\n",
       "      <td>26</td>\n",
       "      <td>16000</td>\n",
       "      <td>0</td>\n",
       "    </tr>\n",
       "  </tbody>\n",
       "</table>\n",
       "</div>"
      ],
      "text/plain": [
       "    User ID  Gender  Age  EstimatedSalary  Purchased\n",
       "0  15610140  Female   31            15000          0\n",
       "1  15792008    Male   30            15000          0\n",
       "2  15809823    Male   26            15000          0\n",
       "3  15679651  Female   26            15000          0\n",
       "4  15685576    Male   26            16000          0"
      ]
     },
     "execution_count": 2,
     "metadata": {},
     "output_type": "execute_result"
    }
   ],
   "source": [
    "# Leitura do dataset\n",
    "DATASET_PATH = '../data/salary_sales.csv'\n",
    "data = pd.read_csv(DATASET_PATH).dropna()\n",
    "data = data[~((data['EstimatedSalary']<=60000)&(data['Purchased']==1))]\n",
    "data = data[~((data['EstimatedSalary']>=80000)&(data['Purchased']==0))]\n",
    "data = data.sort_values(by='EstimatedSalary').reset_index(drop=True)\n",
    "data.head()"
   ]
  },
  {
   "cell_type": "code",
   "execution_count": 3,
   "metadata": {},
   "outputs": [
    {
     "data": {
      "application/vnd.plotly.v1+json": {
       "config": {
        "plotlyServerURL": "https://plot.ly"
       },
       "data": [
        {
         "hovertemplate": "EstimatedSalary=%{x}<br>Purchased=%{y}<extra></extra>",
         "legendgroup": "",
         "marker": {
          "color": "#636efa",
          "symbol": "circle"
         },
         "mode": "markers",
         "name": "",
         "orientation": "v",
         "showlegend": false,
         "type": "scatter",
         "x": [
          15000,
          15000,
          15000,
          15000,
          16000,
          16000,
          17000,
          17000,
          17000,
          18000,
          18000,
          18000,
          18000,
          19000,
          19000,
          20000,
          20000,
          20000,
          21000,
          22000,
          22000,
          22000,
          23000,
          23000,
          23000,
          25000,
          25000,
          25000,
          26000,
          27000,
          27000,
          27000,
          28000,
          28000,
          28000,
          30000,
          30000,
          31000,
          31000,
          32000,
          32000,
          32000,
          33000,
          33000,
          33000,
          34000,
          35000,
          36000,
          37000,
          38000,
          39000,
          39000,
          41000,
          42000,
          42000,
          42000,
          43000,
          43000,
          43000,
          43000,
          43000,
          43000,
          43000,
          44000,
          44000,
          44000,
          44000,
          45000,
          47000,
          47000,
          47000,
          47000,
          48000,
          49000,
          49000,
          50000,
          50000,
          50000,
          50000,
          50000,
          51000,
          51000,
          51000,
          52000,
          52000,
          52000,
          52000,
          52000,
          52000,
          53000,
          53000,
          53000,
          54000,
          54000,
          54000,
          54000,
          55000,
          55000,
          55000,
          55000,
          55000,
          55000,
          55000,
          57000,
          57000,
          57000,
          57000,
          57000,
          57000,
          58000,
          58000,
          58000,
          58000,
          58000,
          59000,
          59000,
          59000,
          59000,
          59000,
          59000,
          59000,
          59000,
          60000,
          60000,
          60000,
          60000,
          60000,
          61000,
          61000,
          61000,
          61000,
          61000,
          61000,
          62000,
          62000,
          63000,
          63000,
          63000,
          63000,
          64000,
          65000,
          65000,
          65000,
          65000,
          65000,
          65000,
          66000,
          66000,
          68000,
          68000,
          68000,
          69000,
          70000,
          70000,
          70000,
          70000,
          71000,
          71000,
          71000,
          71000,
          71000,
          71000,
          71000,
          71000,
          71000,
          72000,
          72000,
          72000,
          72000,
          72000,
          72000,
          72000,
          72000,
          72000,
          72000,
          72000,
          72000,
          73000,
          73000,
          73000,
          74000,
          74000,
          74000,
          74000,
          74000,
          74000,
          74000,
          75000,
          75000,
          75000,
          75000,
          75000,
          75000,
          75000,
          75000,
          75000,
          76000,
          76000,
          76000,
          77000,
          77000,
          77000,
          78000,
          78000,
          79000,
          79000,
          79000,
          79000,
          79000,
          79000,
          79000,
          79000,
          79000,
          79000,
          80000,
          82000,
          83000,
          86000,
          87000,
          88000,
          88000,
          88000,
          88000,
          89000,
          90000,
          90000,
          90000,
          91000,
          93000,
          95000,
          96000,
          96000,
          96000,
          97000,
          99000,
          100000,
          101000,
          102000,
          104000,
          104000,
          104000,
          104000,
          105000,
          106000,
          107000,
          107000,
          107000,
          108000,
          108000,
          108000,
          112000,
          112000,
          113000,
          113000,
          117000,
          117000,
          118000,
          118000,
          119000,
          120000,
          122000,
          122000,
          123000,
          125000,
          125000,
          126000,
          129000,
          130000,
          130000,
          131000,
          131000,
          133000,
          134000,
          134000,
          134000,
          135000,
          135000,
          137000,
          137000,
          138000,
          138000,
          139000,
          141000,
          142000,
          143000,
          143000,
          144000,
          144000,
          144000,
          144000,
          146000,
          146000,
          147000,
          148000,
          149000,
          149000,
          150000,
          150000
         ],
         "xaxis": "x",
         "y": [
          0,
          0,
          0,
          0,
          0,
          0,
          0,
          0,
          0,
          0,
          0,
          0,
          0,
          0,
          0,
          0,
          0,
          0,
          0,
          0,
          0,
          0,
          0,
          0,
          0,
          0,
          0,
          0,
          0,
          0,
          0,
          0,
          0,
          0,
          0,
          0,
          0,
          0,
          0,
          0,
          0,
          0,
          0,
          0,
          0,
          0,
          0,
          0,
          0,
          0,
          0,
          0,
          0,
          0,
          0,
          0,
          0,
          0,
          0,
          0,
          0,
          0,
          0,
          0,
          0,
          0,
          0,
          0,
          0,
          0,
          0,
          0,
          0,
          0,
          0,
          0,
          0,
          0,
          0,
          0,
          0,
          0,
          0,
          0,
          0,
          0,
          0,
          0,
          0,
          0,
          0,
          0,
          0,
          0,
          0,
          0,
          0,
          0,
          0,
          0,
          0,
          0,
          0,
          0,
          0,
          0,
          0,
          0,
          0,
          0,
          0,
          0,
          0,
          0,
          0,
          0,
          0,
          0,
          0,
          0,
          0,
          0,
          0,
          0,
          0,
          0,
          0,
          0,
          0,
          0,
          0,
          0,
          0,
          0,
          0,
          0,
          0,
          0,
          0,
          0,
          0,
          0,
          0,
          0,
          0,
          0,
          0,
          0,
          0,
          0,
          0,
          0,
          1,
          0,
          0,
          1,
          0,
          0,
          0,
          0,
          0,
          0,
          1,
          0,
          0,
          0,
          0,
          0,
          0,
          0,
          0,
          0,
          0,
          0,
          1,
          0,
          0,
          1,
          0,
          0,
          0,
          0,
          1,
          0,
          1,
          0,
          0,
          0,
          0,
          0,
          1,
          0,
          0,
          0,
          0,
          0,
          1,
          0,
          0,
          0,
          0,
          0,
          0,
          1,
          0,
          0,
          0,
          0,
          0,
          0,
          0,
          1,
          0,
          1,
          1,
          1,
          1,
          1,
          1,
          1,
          1,
          1,
          1,
          1,
          1,
          1,
          1,
          1,
          1,
          1,
          1,
          1,
          1,
          1,
          1,
          1,
          1,
          1,
          1,
          1,
          1,
          1,
          1,
          1,
          1,
          1,
          1,
          1,
          1,
          1,
          1,
          1,
          1,
          1,
          1,
          1,
          1,
          1,
          1,
          1,
          1,
          1,
          1,
          1,
          1,
          1,
          1,
          1,
          1,
          1,
          1,
          1,
          1,
          1,
          1,
          1,
          1,
          1,
          1,
          1,
          1,
          1,
          1,
          1,
          1,
          1,
          1,
          1,
          1,
          1,
          1,
          1,
          1,
          1,
          1,
          1,
          1,
          1
         ],
         "yaxis": "y"
        }
       ],
       "layout": {
        "legend": {
         "tracegroupgap": 0
        },
        "margin": {
         "t": 60
        },
        "template": {
         "data": {
          "bar": [
           {
            "error_x": {
             "color": "#f2f5fa"
            },
            "error_y": {
             "color": "#f2f5fa"
            },
            "marker": {
             "line": {
              "color": "rgb(17,17,17)",
              "width": 0.5
             },
             "pattern": {
              "fillmode": "overlay",
              "size": 10,
              "solidity": 0.2
             }
            },
            "type": "bar"
           }
          ],
          "barpolar": [
           {
            "marker": {
             "line": {
              "color": "rgb(17,17,17)",
              "width": 0.5
             },
             "pattern": {
              "fillmode": "overlay",
              "size": 10,
              "solidity": 0.2
             }
            },
            "type": "barpolar"
           }
          ],
          "carpet": [
           {
            "aaxis": {
             "endlinecolor": "#A2B1C6",
             "gridcolor": "#506784",
             "linecolor": "#506784",
             "minorgridcolor": "#506784",
             "startlinecolor": "#A2B1C6"
            },
            "baxis": {
             "endlinecolor": "#A2B1C6",
             "gridcolor": "#506784",
             "linecolor": "#506784",
             "minorgridcolor": "#506784",
             "startlinecolor": "#A2B1C6"
            },
            "type": "carpet"
           }
          ],
          "choropleth": [
           {
            "colorbar": {
             "outlinewidth": 0,
             "ticks": ""
            },
            "type": "choropleth"
           }
          ],
          "contour": [
           {
            "colorbar": {
             "outlinewidth": 0,
             "ticks": ""
            },
            "colorscale": [
             [
              0,
              "#0d0887"
             ],
             [
              0.1111111111111111,
              "#46039f"
             ],
             [
              0.2222222222222222,
              "#7201a8"
             ],
             [
              0.3333333333333333,
              "#9c179e"
             ],
             [
              0.4444444444444444,
              "#bd3786"
             ],
             [
              0.5555555555555556,
              "#d8576b"
             ],
             [
              0.6666666666666666,
              "#ed7953"
             ],
             [
              0.7777777777777778,
              "#fb9f3a"
             ],
             [
              0.8888888888888888,
              "#fdca26"
             ],
             [
              1,
              "#f0f921"
             ]
            ],
            "type": "contour"
           }
          ],
          "contourcarpet": [
           {
            "colorbar": {
             "outlinewidth": 0,
             "ticks": ""
            },
            "type": "contourcarpet"
           }
          ],
          "heatmap": [
           {
            "colorbar": {
             "outlinewidth": 0,
             "ticks": ""
            },
            "colorscale": [
             [
              0,
              "#0d0887"
             ],
             [
              0.1111111111111111,
              "#46039f"
             ],
             [
              0.2222222222222222,
              "#7201a8"
             ],
             [
              0.3333333333333333,
              "#9c179e"
             ],
             [
              0.4444444444444444,
              "#bd3786"
             ],
             [
              0.5555555555555556,
              "#d8576b"
             ],
             [
              0.6666666666666666,
              "#ed7953"
             ],
             [
              0.7777777777777778,
              "#fb9f3a"
             ],
             [
              0.8888888888888888,
              "#fdca26"
             ],
             [
              1,
              "#f0f921"
             ]
            ],
            "type": "heatmap"
           }
          ],
          "heatmapgl": [
           {
            "colorbar": {
             "outlinewidth": 0,
             "ticks": ""
            },
            "colorscale": [
             [
              0,
              "#0d0887"
             ],
             [
              0.1111111111111111,
              "#46039f"
             ],
             [
              0.2222222222222222,
              "#7201a8"
             ],
             [
              0.3333333333333333,
              "#9c179e"
             ],
             [
              0.4444444444444444,
              "#bd3786"
             ],
             [
              0.5555555555555556,
              "#d8576b"
             ],
             [
              0.6666666666666666,
              "#ed7953"
             ],
             [
              0.7777777777777778,
              "#fb9f3a"
             ],
             [
              0.8888888888888888,
              "#fdca26"
             ],
             [
              1,
              "#f0f921"
             ]
            ],
            "type": "heatmapgl"
           }
          ],
          "histogram": [
           {
            "marker": {
             "pattern": {
              "fillmode": "overlay",
              "size": 10,
              "solidity": 0.2
             }
            },
            "type": "histogram"
           }
          ],
          "histogram2d": [
           {
            "colorbar": {
             "outlinewidth": 0,
             "ticks": ""
            },
            "colorscale": [
             [
              0,
              "#0d0887"
             ],
             [
              0.1111111111111111,
              "#46039f"
             ],
             [
              0.2222222222222222,
              "#7201a8"
             ],
             [
              0.3333333333333333,
              "#9c179e"
             ],
             [
              0.4444444444444444,
              "#bd3786"
             ],
             [
              0.5555555555555556,
              "#d8576b"
             ],
             [
              0.6666666666666666,
              "#ed7953"
             ],
             [
              0.7777777777777778,
              "#fb9f3a"
             ],
             [
              0.8888888888888888,
              "#fdca26"
             ],
             [
              1,
              "#f0f921"
             ]
            ],
            "type": "histogram2d"
           }
          ],
          "histogram2dcontour": [
           {
            "colorbar": {
             "outlinewidth": 0,
             "ticks": ""
            },
            "colorscale": [
             [
              0,
              "#0d0887"
             ],
             [
              0.1111111111111111,
              "#46039f"
             ],
             [
              0.2222222222222222,
              "#7201a8"
             ],
             [
              0.3333333333333333,
              "#9c179e"
             ],
             [
              0.4444444444444444,
              "#bd3786"
             ],
             [
              0.5555555555555556,
              "#d8576b"
             ],
             [
              0.6666666666666666,
              "#ed7953"
             ],
             [
              0.7777777777777778,
              "#fb9f3a"
             ],
             [
              0.8888888888888888,
              "#fdca26"
             ],
             [
              1,
              "#f0f921"
             ]
            ],
            "type": "histogram2dcontour"
           }
          ],
          "mesh3d": [
           {
            "colorbar": {
             "outlinewidth": 0,
             "ticks": ""
            },
            "type": "mesh3d"
           }
          ],
          "parcoords": [
           {
            "line": {
             "colorbar": {
              "outlinewidth": 0,
              "ticks": ""
             }
            },
            "type": "parcoords"
           }
          ],
          "pie": [
           {
            "automargin": true,
            "type": "pie"
           }
          ],
          "scatter": [
           {
            "marker": {
             "line": {
              "color": "#283442"
             }
            },
            "type": "scatter"
           }
          ],
          "scatter3d": [
           {
            "line": {
             "colorbar": {
              "outlinewidth": 0,
              "ticks": ""
             }
            },
            "marker": {
             "colorbar": {
              "outlinewidth": 0,
              "ticks": ""
             }
            },
            "type": "scatter3d"
           }
          ],
          "scattercarpet": [
           {
            "marker": {
             "colorbar": {
              "outlinewidth": 0,
              "ticks": ""
             }
            },
            "type": "scattercarpet"
           }
          ],
          "scattergeo": [
           {
            "marker": {
             "colorbar": {
              "outlinewidth": 0,
              "ticks": ""
             }
            },
            "type": "scattergeo"
           }
          ],
          "scattergl": [
           {
            "marker": {
             "line": {
              "color": "#283442"
             }
            },
            "type": "scattergl"
           }
          ],
          "scattermapbox": [
           {
            "marker": {
             "colorbar": {
              "outlinewidth": 0,
              "ticks": ""
             }
            },
            "type": "scattermapbox"
           }
          ],
          "scatterpolar": [
           {
            "marker": {
             "colorbar": {
              "outlinewidth": 0,
              "ticks": ""
             }
            },
            "type": "scatterpolar"
           }
          ],
          "scatterpolargl": [
           {
            "marker": {
             "colorbar": {
              "outlinewidth": 0,
              "ticks": ""
             }
            },
            "type": "scatterpolargl"
           }
          ],
          "scatterternary": [
           {
            "marker": {
             "colorbar": {
              "outlinewidth": 0,
              "ticks": ""
             }
            },
            "type": "scatterternary"
           }
          ],
          "surface": [
           {
            "colorbar": {
             "outlinewidth": 0,
             "ticks": ""
            },
            "colorscale": [
             [
              0,
              "#0d0887"
             ],
             [
              0.1111111111111111,
              "#46039f"
             ],
             [
              0.2222222222222222,
              "#7201a8"
             ],
             [
              0.3333333333333333,
              "#9c179e"
             ],
             [
              0.4444444444444444,
              "#bd3786"
             ],
             [
              0.5555555555555556,
              "#d8576b"
             ],
             [
              0.6666666666666666,
              "#ed7953"
             ],
             [
              0.7777777777777778,
              "#fb9f3a"
             ],
             [
              0.8888888888888888,
              "#fdca26"
             ],
             [
              1,
              "#f0f921"
             ]
            ],
            "type": "surface"
           }
          ],
          "table": [
           {
            "cells": {
             "fill": {
              "color": "#506784"
             },
             "line": {
              "color": "rgb(17,17,17)"
             }
            },
            "header": {
             "fill": {
              "color": "#2a3f5f"
             },
             "line": {
              "color": "rgb(17,17,17)"
             }
            },
            "type": "table"
           }
          ]
         },
         "layout": {
          "annotationdefaults": {
           "arrowcolor": "#f2f5fa",
           "arrowhead": 0,
           "arrowwidth": 1
          },
          "autotypenumbers": "strict",
          "coloraxis": {
           "colorbar": {
            "outlinewidth": 0,
            "ticks": ""
           }
          },
          "colorscale": {
           "diverging": [
            [
             0,
             "#8e0152"
            ],
            [
             0.1,
             "#c51b7d"
            ],
            [
             0.2,
             "#de77ae"
            ],
            [
             0.3,
             "#f1b6da"
            ],
            [
             0.4,
             "#fde0ef"
            ],
            [
             0.5,
             "#f7f7f7"
            ],
            [
             0.6,
             "#e6f5d0"
            ],
            [
             0.7,
             "#b8e186"
            ],
            [
             0.8,
             "#7fbc41"
            ],
            [
             0.9,
             "#4d9221"
            ],
            [
             1,
             "#276419"
            ]
           ],
           "sequential": [
            [
             0,
             "#0d0887"
            ],
            [
             0.1111111111111111,
             "#46039f"
            ],
            [
             0.2222222222222222,
             "#7201a8"
            ],
            [
             0.3333333333333333,
             "#9c179e"
            ],
            [
             0.4444444444444444,
             "#bd3786"
            ],
            [
             0.5555555555555556,
             "#d8576b"
            ],
            [
             0.6666666666666666,
             "#ed7953"
            ],
            [
             0.7777777777777778,
             "#fb9f3a"
            ],
            [
             0.8888888888888888,
             "#fdca26"
            ],
            [
             1,
             "#f0f921"
            ]
           ],
           "sequentialminus": [
            [
             0,
             "#0d0887"
            ],
            [
             0.1111111111111111,
             "#46039f"
            ],
            [
             0.2222222222222222,
             "#7201a8"
            ],
            [
             0.3333333333333333,
             "#9c179e"
            ],
            [
             0.4444444444444444,
             "#bd3786"
            ],
            [
             0.5555555555555556,
             "#d8576b"
            ],
            [
             0.6666666666666666,
             "#ed7953"
            ],
            [
             0.7777777777777778,
             "#fb9f3a"
            ],
            [
             0.8888888888888888,
             "#fdca26"
            ],
            [
             1,
             "#f0f921"
            ]
           ]
          },
          "colorway": [
           "#636efa",
           "#EF553B",
           "#00cc96",
           "#ab63fa",
           "#FFA15A",
           "#19d3f3",
           "#FF6692",
           "#B6E880",
           "#FF97FF",
           "#FECB52"
          ],
          "font": {
           "color": "#f2f5fa"
          },
          "geo": {
           "bgcolor": "rgb(17,17,17)",
           "lakecolor": "rgb(17,17,17)",
           "landcolor": "rgb(17,17,17)",
           "showlakes": true,
           "showland": true,
           "subunitcolor": "#506784"
          },
          "hoverlabel": {
           "align": "left"
          },
          "hovermode": "closest",
          "mapbox": {
           "style": "dark"
          },
          "paper_bgcolor": "rgb(17,17,17)",
          "plot_bgcolor": "rgb(17,17,17)",
          "polar": {
           "angularaxis": {
            "gridcolor": "#506784",
            "linecolor": "#506784",
            "ticks": ""
           },
           "bgcolor": "rgb(17,17,17)",
           "radialaxis": {
            "gridcolor": "#506784",
            "linecolor": "#506784",
            "ticks": ""
           }
          },
          "scene": {
           "xaxis": {
            "backgroundcolor": "rgb(17,17,17)",
            "gridcolor": "#506784",
            "gridwidth": 2,
            "linecolor": "#506784",
            "showbackground": true,
            "ticks": "",
            "zerolinecolor": "#C8D4E3"
           },
           "yaxis": {
            "backgroundcolor": "rgb(17,17,17)",
            "gridcolor": "#506784",
            "gridwidth": 2,
            "linecolor": "#506784",
            "showbackground": true,
            "ticks": "",
            "zerolinecolor": "#C8D4E3"
           },
           "zaxis": {
            "backgroundcolor": "rgb(17,17,17)",
            "gridcolor": "#506784",
            "gridwidth": 2,
            "linecolor": "#506784",
            "showbackground": true,
            "ticks": "",
            "zerolinecolor": "#C8D4E3"
           }
          },
          "shapedefaults": {
           "line": {
            "color": "#f2f5fa"
           }
          },
          "sliderdefaults": {
           "bgcolor": "#C8D4E3",
           "bordercolor": "rgb(17,17,17)",
           "borderwidth": 1,
           "tickwidth": 0
          },
          "ternary": {
           "aaxis": {
            "gridcolor": "#506784",
            "linecolor": "#506784",
            "ticks": ""
           },
           "baxis": {
            "gridcolor": "#506784",
            "linecolor": "#506784",
            "ticks": ""
           },
           "bgcolor": "rgb(17,17,17)",
           "caxis": {
            "gridcolor": "#506784",
            "linecolor": "#506784",
            "ticks": ""
           }
          },
          "title": {
           "x": 0.05
          },
          "updatemenudefaults": {
           "bgcolor": "#506784",
           "borderwidth": 0
          },
          "xaxis": {
           "automargin": true,
           "gridcolor": "#283442",
           "linecolor": "#506784",
           "ticks": "",
           "title": {
            "standoff": 15
           },
           "zerolinecolor": "#283442",
           "zerolinewidth": 2
          },
          "yaxis": {
           "automargin": true,
           "gridcolor": "#283442",
           "linecolor": "#506784",
           "ticks": "",
           "title": {
            "standoff": 15
           },
           "zerolinecolor": "#283442",
           "zerolinewidth": 2
          }
         }
        },
        "xaxis": {
         "anchor": "y",
         "domain": [
          0,
          1
         ],
         "title": {
          "text": "EstimatedSalary"
         }
        },
        "yaxis": {
         "anchor": "x",
         "domain": [
          0,
          1
         ],
         "title": {
          "text": "Purchased"
         }
        }
       }
      }
     },
     "metadata": {},
     "output_type": "display_data"
    }
   ],
   "source": [
    "px.scatter(data, 'EstimatedSalary' , 'Purchased')"
   ]
  },
  {
   "cell_type": "code",
   "execution_count": 4,
   "metadata": {},
   "outputs": [
    {
     "name": "stdout",
     "output_type": "stream",
     "text": [
      "[-13.85528893] [0.00017103]\n"
     ]
    },
    {
     "name": "stderr",
     "output_type": "stream",
     "text": [
      "c:\\PROJECTS\\studying_ml\\venv\\lib\\site-packages\\sklearn\\svm\\_base.py:1250: ConvergenceWarning:\n",
      "\n",
      "Liblinear failed to converge, increase the number of iterations.\n",
      "\n"
     ]
    }
   ],
   "source": [
    "# Variáveis: X -> preditora e Y -> resposta\n",
    "X = ['EstimatedSalary']\n",
    "Y = 'Purchased'\n",
    "\n",
    "# Ajustando o modelo\n",
    "model = LogisticRegression(penalty='l1', solver='liblinear')\n",
    "model.fit(data[X].values, data[Y].values)\n",
    "\n",
    "# Salvando os coeficientes\n",
    "b0 = model.intercept_\n",
    "b1 = model.coef_[0]\n",
    "\n",
    "Y_PRED = model.predict_proba(data[X].__array__())\n",
    "Y_PRED = np.delete(Y_PRED, 0, 1).reshape(1, -1)[0]\n",
    "\n",
    "print(b0, b1)"
   ]
  },
  {
   "cell_type": "code",
   "execution_count": 5,
   "metadata": {},
   "outputs": [
    {
     "name": "stdout",
     "output_type": "stream",
     "text": [
      "-0.4491944652360248 1.0813376800128682e-05\n"
     ]
    }
   ],
   "source": [
    "# Ajustando o modelo\n",
    "linear_model = LinearRegression()\n",
    "linear_model.fit(data[X].values, data[Y].values)\n",
    "\n",
    "# Salvando os coeficientes\n",
    "b0 = linear_model.intercept_\n",
    "b1 = linear_model.coef_[0]\n",
    "\n",
    "Y_PRED_LINEAR = linear_model.predict(data[X].values.reshape(-1,1))\n",
    "\n",
    "print(b0, b1)"
   ]
  },
  {
   "cell_type": "code",
   "execution_count": 6,
   "metadata": {},
   "outputs": [
    {
     "data": {
      "application/vnd.plotly.v1+json": {
       "config": {
        "plotlyServerURL": "https://plot.ly"
       },
       "data": [
        {
         "hovertemplate": "EstimatedSalary=%{x}<br>Purchased=%{y}<extra></extra>",
         "legendgroup": "",
         "marker": {
          "color": "#636efa",
          "symbol": "circle"
         },
         "mode": "markers",
         "name": "",
         "orientation": "v",
         "showlegend": false,
         "type": "scatter",
         "x": [
          15000,
          15000,
          15000,
          15000,
          16000,
          16000,
          17000,
          17000,
          17000,
          18000,
          18000,
          18000,
          18000,
          19000,
          19000,
          20000,
          20000,
          20000,
          21000,
          22000,
          22000,
          22000,
          23000,
          23000,
          23000,
          25000,
          25000,
          25000,
          26000,
          27000,
          27000,
          27000,
          28000,
          28000,
          28000,
          30000,
          30000,
          31000,
          31000,
          32000,
          32000,
          32000,
          33000,
          33000,
          33000,
          34000,
          35000,
          36000,
          37000,
          38000,
          39000,
          39000,
          41000,
          42000,
          42000,
          42000,
          43000,
          43000,
          43000,
          43000,
          43000,
          43000,
          43000,
          44000,
          44000,
          44000,
          44000,
          45000,
          47000,
          47000,
          47000,
          47000,
          48000,
          49000,
          49000,
          50000,
          50000,
          50000,
          50000,
          50000,
          51000,
          51000,
          51000,
          52000,
          52000,
          52000,
          52000,
          52000,
          52000,
          53000,
          53000,
          53000,
          54000,
          54000,
          54000,
          54000,
          55000,
          55000,
          55000,
          55000,
          55000,
          55000,
          55000,
          57000,
          57000,
          57000,
          57000,
          57000,
          57000,
          58000,
          58000,
          58000,
          58000,
          58000,
          59000,
          59000,
          59000,
          59000,
          59000,
          59000,
          59000,
          59000,
          60000,
          60000,
          60000,
          60000,
          60000,
          61000,
          61000,
          61000,
          61000,
          61000,
          61000,
          62000,
          62000,
          63000,
          63000,
          63000,
          63000,
          64000,
          65000,
          65000,
          65000,
          65000,
          65000,
          65000,
          66000,
          66000,
          68000,
          68000,
          68000,
          69000,
          70000,
          70000,
          70000,
          70000,
          71000,
          71000,
          71000,
          71000,
          71000,
          71000,
          71000,
          71000,
          71000,
          72000,
          72000,
          72000,
          72000,
          72000,
          72000,
          72000,
          72000,
          72000,
          72000,
          72000,
          72000,
          73000,
          73000,
          73000,
          74000,
          74000,
          74000,
          74000,
          74000,
          74000,
          74000,
          75000,
          75000,
          75000,
          75000,
          75000,
          75000,
          75000,
          75000,
          75000,
          76000,
          76000,
          76000,
          77000,
          77000,
          77000,
          78000,
          78000,
          79000,
          79000,
          79000,
          79000,
          79000,
          79000,
          79000,
          79000,
          79000,
          79000,
          80000,
          82000,
          83000,
          86000,
          87000,
          88000,
          88000,
          88000,
          88000,
          89000,
          90000,
          90000,
          90000,
          91000,
          93000,
          95000,
          96000,
          96000,
          96000,
          97000,
          99000,
          100000,
          101000,
          102000,
          104000,
          104000,
          104000,
          104000,
          105000,
          106000,
          107000,
          107000,
          107000,
          108000,
          108000,
          108000,
          112000,
          112000,
          113000,
          113000,
          117000,
          117000,
          118000,
          118000,
          119000,
          120000,
          122000,
          122000,
          123000,
          125000,
          125000,
          126000,
          129000,
          130000,
          130000,
          131000,
          131000,
          133000,
          134000,
          134000,
          134000,
          135000,
          135000,
          137000,
          137000,
          138000,
          138000,
          139000,
          141000,
          142000,
          143000,
          143000,
          144000,
          144000,
          144000,
          144000,
          146000,
          146000,
          147000,
          148000,
          149000,
          149000,
          150000,
          150000
         ],
         "xaxis": "x",
         "y": [
          0,
          0,
          0,
          0,
          0,
          0,
          0,
          0,
          0,
          0,
          0,
          0,
          0,
          0,
          0,
          0,
          0,
          0,
          0,
          0,
          0,
          0,
          0,
          0,
          0,
          0,
          0,
          0,
          0,
          0,
          0,
          0,
          0,
          0,
          0,
          0,
          0,
          0,
          0,
          0,
          0,
          0,
          0,
          0,
          0,
          0,
          0,
          0,
          0,
          0,
          0,
          0,
          0,
          0,
          0,
          0,
          0,
          0,
          0,
          0,
          0,
          0,
          0,
          0,
          0,
          0,
          0,
          0,
          0,
          0,
          0,
          0,
          0,
          0,
          0,
          0,
          0,
          0,
          0,
          0,
          0,
          0,
          0,
          0,
          0,
          0,
          0,
          0,
          0,
          0,
          0,
          0,
          0,
          0,
          0,
          0,
          0,
          0,
          0,
          0,
          0,
          0,
          0,
          0,
          0,
          0,
          0,
          0,
          0,
          0,
          0,
          0,
          0,
          0,
          0,
          0,
          0,
          0,
          0,
          0,
          0,
          0,
          0,
          0,
          0,
          0,
          0,
          0,
          0,
          0,
          0,
          0,
          0,
          0,
          0,
          0,
          0,
          0,
          0,
          0,
          0,
          0,
          0,
          0,
          0,
          0,
          0,
          0,
          0,
          0,
          0,
          0,
          1,
          0,
          0,
          1,
          0,
          0,
          0,
          0,
          0,
          0,
          1,
          0,
          0,
          0,
          0,
          0,
          0,
          0,
          0,
          0,
          0,
          0,
          1,
          0,
          0,
          1,
          0,
          0,
          0,
          0,
          1,
          0,
          1,
          0,
          0,
          0,
          0,
          0,
          1,
          0,
          0,
          0,
          0,
          0,
          1,
          0,
          0,
          0,
          0,
          0,
          0,
          1,
          0,
          0,
          0,
          0,
          0,
          0,
          0,
          1,
          0,
          1,
          1,
          1,
          1,
          1,
          1,
          1,
          1,
          1,
          1,
          1,
          1,
          1,
          1,
          1,
          1,
          1,
          1,
          1,
          1,
          1,
          1,
          1,
          1,
          1,
          1,
          1,
          1,
          1,
          1,
          1,
          1,
          1,
          1,
          1,
          1,
          1,
          1,
          1,
          1,
          1,
          1,
          1,
          1,
          1,
          1,
          1,
          1,
          1,
          1,
          1,
          1,
          1,
          1,
          1,
          1,
          1,
          1,
          1,
          1,
          1,
          1,
          1,
          1,
          1,
          1,
          1,
          1,
          1,
          1,
          1,
          1,
          1,
          1,
          1,
          1,
          1,
          1,
          1,
          1,
          1,
          1,
          1,
          1,
          1
         ],
         "yaxis": "y"
        },
        {
         "mode": "lines",
         "name": "Regressão Logística",
         "type": "scatter",
         "x": [
          15000,
          15000,
          15000,
          15000,
          16000,
          16000,
          17000,
          17000,
          17000,
          18000,
          18000,
          18000,
          18000,
          19000,
          19000,
          20000,
          20000,
          20000,
          21000,
          22000,
          22000,
          22000,
          23000,
          23000,
          23000,
          25000,
          25000,
          25000,
          26000,
          27000,
          27000,
          27000,
          28000,
          28000,
          28000,
          30000,
          30000,
          31000,
          31000,
          32000,
          32000,
          32000,
          33000,
          33000,
          33000,
          34000,
          35000,
          36000,
          37000,
          38000,
          39000,
          39000,
          41000,
          42000,
          42000,
          42000,
          43000,
          43000,
          43000,
          43000,
          43000,
          43000,
          43000,
          44000,
          44000,
          44000,
          44000,
          45000,
          47000,
          47000,
          47000,
          47000,
          48000,
          49000,
          49000,
          50000,
          50000,
          50000,
          50000,
          50000,
          51000,
          51000,
          51000,
          52000,
          52000,
          52000,
          52000,
          52000,
          52000,
          53000,
          53000,
          53000,
          54000,
          54000,
          54000,
          54000,
          55000,
          55000,
          55000,
          55000,
          55000,
          55000,
          55000,
          57000,
          57000,
          57000,
          57000,
          57000,
          57000,
          58000,
          58000,
          58000,
          58000,
          58000,
          59000,
          59000,
          59000,
          59000,
          59000,
          59000,
          59000,
          59000,
          60000,
          60000,
          60000,
          60000,
          60000,
          61000,
          61000,
          61000,
          61000,
          61000,
          61000,
          62000,
          62000,
          63000,
          63000,
          63000,
          63000,
          64000,
          65000,
          65000,
          65000,
          65000,
          65000,
          65000,
          66000,
          66000,
          68000,
          68000,
          68000,
          69000,
          70000,
          70000,
          70000,
          70000,
          71000,
          71000,
          71000,
          71000,
          71000,
          71000,
          71000,
          71000,
          71000,
          72000,
          72000,
          72000,
          72000,
          72000,
          72000,
          72000,
          72000,
          72000,
          72000,
          72000,
          72000,
          73000,
          73000,
          73000,
          74000,
          74000,
          74000,
          74000,
          74000,
          74000,
          74000,
          75000,
          75000,
          75000,
          75000,
          75000,
          75000,
          75000,
          75000,
          75000,
          76000,
          76000,
          76000,
          77000,
          77000,
          77000,
          78000,
          78000,
          79000,
          79000,
          79000,
          79000,
          79000,
          79000,
          79000,
          79000,
          79000,
          79000,
          80000,
          82000,
          83000,
          86000,
          87000,
          88000,
          88000,
          88000,
          88000,
          89000,
          90000,
          90000,
          90000,
          91000,
          93000,
          95000,
          96000,
          96000,
          96000,
          97000,
          99000,
          100000,
          101000,
          102000,
          104000,
          104000,
          104000,
          104000,
          105000,
          106000,
          107000,
          107000,
          107000,
          108000,
          108000,
          108000,
          112000,
          112000,
          113000,
          113000,
          117000,
          117000,
          118000,
          118000,
          119000,
          120000,
          122000,
          122000,
          123000,
          125000,
          125000,
          126000,
          129000,
          130000,
          130000,
          131000,
          131000,
          133000,
          134000,
          134000,
          134000,
          135000,
          135000,
          137000,
          137000,
          138000,
          138000,
          139000,
          141000,
          142000,
          143000,
          143000,
          144000,
          144000,
          144000,
          144000,
          146000,
          146000,
          147000,
          148000,
          149000,
          149000,
          150000,
          150000
         ],
         "y": [
          0.000012499457404231492,
          0.000012499457404231492,
          0.000012499457404231492,
          0.000012499457404231492,
          0.000014830926730684037,
          0.000014830926730684037,
          0.00001759726721904972,
          0.00001759726721904972,
          0.00001759726721904972,
          0.000020879588943800166,
          0.000020879588943800166,
          0.000020879588943800166,
          0.000020879588943800166,
          0.000024774128966910258,
          0.000024774128966910258,
          0.00002939507199417294,
          0.00002939507199417294,
          0.00002939507199417294,
          0.000034877896773950676,
          0.00004138334614519587,
          0.00004138334614519587,
          0.00004138334614519587,
          0.00004910213683912455,
          0.00004910213683912455,
          0.00004910213683912455,
          0.00006912704257658159,
          0.00006912704257658159,
          0.00006912704257658159,
          0.00008202014227683661,
          0.0000973177400612341,
          0.0000973177400612341,
          0.0000973177400612341,
          0.00011546816725808069,
          0.00011546816725808069,
          0.00011546816725808069,
          0.00016255416540533505,
          0.00016255416540533505,
          0.00019286928729481446,
          0.00019286928729481446,
          0.00022883665609098634,
          0.00022883665609098634,
          0.00022883665609098634,
          0.0002715096042443715,
          0.0002715096042443715,
          0.0002715096042443715,
          0.00032213754437649935,
          0.00038220238235395866,
          0.00045346165669865097,
          0.000537999632250058,
          0.0006382877941812216,
          0.0007572564429594434,
          0.0007572564429594434,
          0.001065774069182932,
          0.0012643198676423018,
          0.0012643198676423018,
          0.0012643198676423018,
          0.0014997977415455676,
          0.0014997977415455676,
          0.0014997977415455676,
          0.0014997977415455676,
          0.0014997977415455676,
          0.0014997977415455676,
          0.0014997977415455676,
          0.0017790549290085957,
          0.0017790549290085957,
          0.0017790549290085957,
          0.0017790549290085957,
          0.0021101989572366517,
          0.00296828825723633,
          0.00296828825723633,
          0.00296828825723633,
          0.00296828825723633,
          0.0035200094198293234,
          0.004173850702864661,
          0.004173850702864661,
          0.004948539789751554,
          0.004948539789751554,
          0.004948539789751554,
          0.004948539789751554,
          0.004948539789751554,
          0.0058661683172406935,
          0.0058661683172406935,
          0.0058661683172406935,
          0.006952767593969423,
          0.006952767593969423,
          0.006952767593969423,
          0.006952767593969423,
          0.006952767593969423,
          0.006952767593969423,
          0.00823897124391515,
          0.00823897124391515,
          0.00823897124391515,
          0.009760773065540839,
          0.009760773065540839,
          0.009760773065540839,
          0.009760773065540839,
          0.011560386986317315,
          0.011560386986317315,
          0.011560386986317315,
          0.011560386986317315,
          0.011560386986317315,
          0.011560386986317315,
          0.011560386986317315,
          0.016198910710618443,
          0.016198910710618443,
          0.016198910710618443,
          0.016198910710618443,
          0.016198910710618443,
          0.016198910710618443,
          0.019162566966177214,
          0.019162566966177214,
          0.019162566966177214,
          0.019162566966177214,
          0.019162566966177214,
          0.02265594950693345,
          0.02265594950693345,
          0.02265594950693345,
          0.02265594950693345,
          0.02265594950693345,
          0.02265594950693345,
          0.02265594950693345,
          0.02265594950693345,
          0.0267688033462872,
          0.0267688033462872,
          0.0267688033462872,
          0.0267688033462872,
          0.0267688033462872,
          0.031604141672514116,
          0.031604141672514116,
          0.031604141672514116,
          0.031604141672514116,
          0.031604141672514116,
          0.031604141672514116,
          0.03727944698162231,
          0.03727944698162231,
          0.043927664179518565,
          0.043927664179518565,
          0.043927664179518565,
          0.043927664179518565,
          0.051697822088473844,
          0.06075506665567234,
          0.06075506665567234,
          0.06075506665567234,
          0.06075506665567234,
          0.06075506665567234,
          0.06075506665567234,
          0.07127983063200934,
          0.07127983063200934,
          0.09751634371988364,
          0.09751634371988364,
          0.09751634371988364,
          0.11363887017113053,
          0.1320369762087947,
          0.1320369762087947,
          0.1320369762087947,
          0.1320369762087947,
          0.1528999055119793,
          0.1528999055119793,
          0.1528999055119793,
          0.1528999055119793,
          0.1528999055119793,
          0.1528999055119793,
          0.1528999055119793,
          0.1528999055119793,
          0.1528999055119793,
          0.1763894241995723,
          0.1763894241995723,
          0.1763894241995723,
          0.1763894241995723,
          0.1763894241995723,
          0.1763894241995723,
          0.1763894241995723,
          0.1763894241995723,
          0.1763894241995723,
          0.1763894241995723,
          0.1763894241995723,
          0.1763894241995723,
          0.20262438846752898,
          0.20262438846752898,
          0.20262438846752898,
          0.23166381207261721,
          0.23166381207261721,
          0.23166381207261721,
          0.23166381207261721,
          0.23166381207261721,
          0.23166381207261721,
          0.23166381207261721,
          0.2634898039921337,
          0.2634898039921337,
          0.2634898039921337,
          0.2634898039921337,
          0.2634898039921337,
          0.2634898039921337,
          0.2634898039921337,
          0.2634898039921337,
          0.2634898039921337,
          0.29799231227459605,
          0.29799231227459605,
          0.29799231227459605,
          0.3349580265715495,
          0.3349580265715495,
          0.3349580265715495,
          0.37406588190373924,
          0.37406588190373924,
          0.4148912120756636,
          0.4148912120756636,
          0.4148912120756636,
          0.4148912120756636,
          0.4148912120756636,
          0.4148912120756636,
          0.4148912120756636,
          0.4148912120756636,
          0.4148912120756636,
          0.4148912120756636,
          0.45691965562847264,
          0.5422276130912852,
          0.5842744502499285,
          0.7012884168936071,
          0.7358428675858764,
          0.7677240432700566,
          0.7677240432700566,
          0.7677240432700566,
          0.7677240432700566,
          0.7968199086920073,
          0.8231108617067366,
          0.8231108617067366,
          0.8231108617067366,
          0.8466545365557103,
          0.8860145857349556,
          0.916270970757342,
          0.9284923788062891,
          0.9284923788062891,
          0.9284923788062891,
          0.9390485696110957,
          0.9559278071762534,
          0.9625970422830815,
          0.9682905311592981,
          0.973141537282141,
          0.9807727466612294,
          0.9807727466612294,
          0.9807727466612294,
          0.9807727466612294,
          0.9837462414377998,
          0.9862663244930115,
          0.9884002855482783,
          0.9884002855482783,
          0.9884002855482783,
          0.990205960942732,
          0.990205960942732,
          0.990205960942732,
          0.9950345126988689,
          0.9950345126988689,
          0.9958118437352385,
          0.9958118437352385,
          0.9978825534537691,
          0.9978825534537691,
          0.9982148327789093,
          0.9982148327789093,
          0.9984950479627136,
          0.9987313340659185,
          0.9990985313223425,
          0.9990985313223425,
          0.9992401391817193,
          0.9994601496585471,
          0.9994601496585471,
          0.9995449783108409,
          0.9997275561576381,
          0.9997703759055264,
          0.9997703759055264,
          0.9998064670158799,
          0.9998064670158799,
          0.9998625252112896,
          0.9998841344557912,
          0.9998841344557912,
          0.9998841344557912,
          0.9999023473405222,
          0.9999023473405222,
          0.9999306350496818,
          0.9999306350496818,
          0.9999415389415173,
          0.9999415389415173,
          0.9999507288697714,
          0.9999650020632744,
          0.9999705037578449,
          0.9999751406045557,
          0.9999751406045557,
          0.9999790485483498,
          0.9999790485483498,
          0.9999790485483498,
          0.9999790485483498,
          0.9999851180283468,
          0.9999851180283468,
          0.9999874575219985,
          0.9999894292436359,
          0.9999910910064614,
          0.9999910910064614,
          0.9999924915358559,
          0.9999924915358559
         ]
        },
        {
         "mode": "lines",
         "name": "Regressão Linear",
         "type": "scatter",
         "x": [
          15000,
          15000,
          15000,
          15000,
          16000,
          16000,
          17000,
          17000,
          17000,
          18000,
          18000,
          18000,
          18000,
          19000,
          19000,
          20000,
          20000,
          20000,
          21000,
          22000,
          22000,
          22000,
          23000,
          23000,
          23000,
          25000,
          25000,
          25000,
          26000,
          27000,
          27000,
          27000,
          28000,
          28000,
          28000,
          30000,
          30000,
          31000,
          31000,
          32000,
          32000,
          32000,
          33000,
          33000,
          33000,
          34000,
          35000,
          36000,
          37000,
          38000,
          39000,
          39000,
          41000,
          42000,
          42000,
          42000,
          43000,
          43000,
          43000,
          43000,
          43000,
          43000,
          43000,
          44000,
          44000,
          44000,
          44000,
          45000,
          47000,
          47000,
          47000,
          47000,
          48000,
          49000,
          49000,
          50000,
          50000,
          50000,
          50000,
          50000,
          51000,
          51000,
          51000,
          52000,
          52000,
          52000,
          52000,
          52000,
          52000,
          53000,
          53000,
          53000,
          54000,
          54000,
          54000,
          54000,
          55000,
          55000,
          55000,
          55000,
          55000,
          55000,
          55000,
          57000,
          57000,
          57000,
          57000,
          57000,
          57000,
          58000,
          58000,
          58000,
          58000,
          58000,
          59000,
          59000,
          59000,
          59000,
          59000,
          59000,
          59000,
          59000,
          60000,
          60000,
          60000,
          60000,
          60000,
          61000,
          61000,
          61000,
          61000,
          61000,
          61000,
          62000,
          62000,
          63000,
          63000,
          63000,
          63000,
          64000,
          65000,
          65000,
          65000,
          65000,
          65000,
          65000,
          66000,
          66000,
          68000,
          68000,
          68000,
          69000,
          70000,
          70000,
          70000,
          70000,
          71000,
          71000,
          71000,
          71000,
          71000,
          71000,
          71000,
          71000,
          71000,
          72000,
          72000,
          72000,
          72000,
          72000,
          72000,
          72000,
          72000,
          72000,
          72000,
          72000,
          72000,
          73000,
          73000,
          73000,
          74000,
          74000,
          74000,
          74000,
          74000,
          74000,
          74000,
          75000,
          75000,
          75000,
          75000,
          75000,
          75000,
          75000,
          75000,
          75000,
          76000,
          76000,
          76000,
          77000,
          77000,
          77000,
          78000,
          78000,
          79000,
          79000,
          79000,
          79000,
          79000,
          79000,
          79000,
          79000,
          79000,
          79000,
          80000,
          82000,
          83000,
          86000,
          87000,
          88000,
          88000,
          88000,
          88000,
          89000,
          90000,
          90000,
          90000,
          91000,
          93000,
          95000,
          96000,
          96000,
          96000,
          97000,
          99000,
          100000,
          101000,
          102000,
          104000,
          104000,
          104000,
          104000,
          105000,
          106000,
          107000,
          107000,
          107000,
          108000,
          108000,
          108000,
          112000,
          112000,
          113000,
          113000,
          117000,
          117000,
          118000,
          118000,
          119000,
          120000,
          122000,
          122000,
          123000,
          125000,
          125000,
          126000,
          129000,
          130000,
          130000,
          131000,
          131000,
          133000,
          134000,
          134000,
          134000,
          135000,
          135000,
          137000,
          137000,
          138000,
          138000,
          139000,
          141000,
          142000,
          143000,
          143000,
          144000,
          144000,
          144000,
          144000,
          146000,
          146000,
          147000,
          148000,
          149000,
          149000,
          150000,
          150000
         ],
         "y": [
          -0.28699381323409456,
          -0.28699381323409456,
          -0.28699381323409456,
          -0.28699381323409456,
          -0.2761804364339659,
          -0.2761804364339659,
          -0.2653670596338372,
          -0.2653670596338372,
          -0.2653670596338372,
          -0.2545536828337085,
          -0.2545536828337085,
          -0.2545536828337085,
          -0.2545536828337085,
          -0.24374030603357982,
          -0.24374030603357982,
          -0.23292692923345115,
          -0.23292692923345115,
          -0.23292692923345115,
          -0.22211355243332248,
          -0.21130017563319378,
          -0.21130017563319378,
          -0.21130017563319378,
          -0.2004867988330651,
          -0.2004867988330651,
          -0.2004867988330651,
          -0.17886004523280774,
          -0.17886004523280774,
          -0.17886004523280774,
          -0.16804666843267907,
          -0.1572332916325504,
          -0.1572332916325504,
          -0.1572332916325504,
          -0.14641991483242167,
          -0.14641991483242167,
          -0.14641991483242167,
          -0.12479316123216433,
          -0.12479316123216433,
          -0.11397978443203566,
          -0.11397978443203566,
          -0.10316640763190699,
          -0.10316640763190699,
          -0.10316640763190699,
          -0.09235303083177826,
          -0.09235303083177826,
          -0.09235303083177826,
          -0.08153965403164959,
          -0.07072627723152092,
          -0.059912900431392246,
          -0.049099523631263575,
          -0.03828614683113485,
          -0.027472770031006177,
          -0.027472770031006177,
          -0.005846016430748835,
          0.004967360369379836,
          0.004967360369379836,
          0.004967360369379836,
          0.015780737169508563,
          0.015780737169508563,
          0.015780737169508563,
          0.015780737169508563,
          0.015780737169508563,
          0.015780737169508563,
          0.015780737169508563,
          0.026594113969637234,
          0.026594113969637234,
          0.026594113969637234,
          0.026594113969637234,
          0.037407490769765905,
          0.05903424437002325,
          0.05903424437002325,
          0.05903424437002325,
          0.05903424437002325,
          0.06984762117015197,
          0.08066099797028059,
          0.08066099797028059,
          0.09147437477040932,
          0.09147437477040932,
          0.09147437477040932,
          0.09147437477040932,
          0.09147437477040932,
          0.10228775157053804,
          0.10228775157053804,
          0.10228775157053804,
          0.11310112837066666,
          0.11310112837066666,
          0.11310112837066666,
          0.11310112837066666,
          0.11310112837066666,
          0.11310112837066666,
          0.12391450517079539,
          0.12391450517079539,
          0.12391450517079539,
          0.134727881970924,
          0.134727881970924,
          0.134727881970924,
          0.134727881970924,
          0.14554125877105273,
          0.14554125877105273,
          0.14554125877105273,
          0.14554125877105273,
          0.14554125877105273,
          0.14554125877105273,
          0.14554125877105273,
          0.16716801237131007,
          0.16716801237131007,
          0.16716801237131007,
          0.16716801237131007,
          0.16716801237131007,
          0.16716801237131007,
          0.1779813891714388,
          0.1779813891714388,
          0.1779813891714388,
          0.1779813891714388,
          0.1779813891714388,
          0.1887947659715674,
          0.1887947659715674,
          0.1887947659715674,
          0.1887947659715674,
          0.1887947659715674,
          0.1887947659715674,
          0.1887947659715674,
          0.1887947659715674,
          0.19960814277169614,
          0.19960814277169614,
          0.19960814277169614,
          0.19960814277169614,
          0.19960814277169614,
          0.21042151957182487,
          0.21042151957182487,
          0.21042151957182487,
          0.21042151957182487,
          0.21042151957182487,
          0.21042151957182487,
          0.22123489637195348,
          0.22123489637195348,
          0.2320482731720822,
          0.2320482731720822,
          0.2320482731720822,
          0.2320482731720822,
          0.24286164997221082,
          0.25367502677233955,
          0.25367502677233955,
          0.25367502677233955,
          0.25367502677233955,
          0.25367502677233955,
          0.25367502677233955,
          0.2644884035724683,
          0.2644884035724683,
          0.2861151571727256,
          0.2861151571727256,
          0.2861151571727256,
          0.29692853397285424,
          0.30774191077298296,
          0.30774191077298296,
          0.30774191077298296,
          0.30774191077298296,
          0.3185552875731117,
          0.3185552875731117,
          0.3185552875731117,
          0.3185552875731117,
          0.3185552875731117,
          0.3185552875731117,
          0.3185552875731117,
          0.3185552875731117,
          0.3185552875731117,
          0.3293686643732403,
          0.3293686643732403,
          0.3293686643732403,
          0.3293686643732403,
          0.3293686643732403,
          0.3293686643732403,
          0.3293686643732403,
          0.3293686643732403,
          0.3293686643732403,
          0.3293686643732403,
          0.3293686643732403,
          0.3293686643732403,
          0.34018204117336903,
          0.34018204117336903,
          0.34018204117336903,
          0.35099541797349765,
          0.35099541797349765,
          0.35099541797349765,
          0.35099541797349765,
          0.35099541797349765,
          0.35099541797349765,
          0.35099541797349765,
          0.3618087947736264,
          0.3618087947736264,
          0.3618087947736264,
          0.3618087947736264,
          0.3618087947736264,
          0.3618087947736264,
          0.3618087947736264,
          0.3618087947736264,
          0.3618087947736264,
          0.3726221715737551,
          0.3726221715737551,
          0.3726221715737551,
          0.3834355483738837,
          0.3834355483738837,
          0.3834355483738837,
          0.39424892517401244,
          0.39424892517401244,
          0.40506230197414106,
          0.40506230197414106,
          0.40506230197414106,
          0.40506230197414106,
          0.40506230197414106,
          0.40506230197414106,
          0.40506230197414106,
          0.40506230197414106,
          0.40506230197414106,
          0.40506230197414106,
          0.4158756787742698,
          0.43750243237452713,
          0.44831580917465585,
          0.4807559395750419,
          0.49156931637517054,
          0.5023826931752993,
          0.5023826931752993,
          0.5023826931752993,
          0.5023826931752993,
          0.5131960699754279,
          0.5240094467755566,
          0.5240094467755566,
          0.5240094467755566,
          0.5348228235756853,
          0.5564495771759427,
          0.5780763307762001,
          0.5888897075763287,
          0.5888897075763287,
          0.5888897075763287,
          0.5997030843764574,
          0.6213298379767148,
          0.6321432147768434,
          0.642956591576972,
          0.6537699683771009,
          0.6753967219773581,
          0.6753967219773581,
          0.6753967219773581,
          0.6753967219773581,
          0.686210098777487,
          0.6970234755776156,
          0.7078368523777442,
          0.7078368523777442,
          0.7078368523777442,
          0.7186502291778728,
          0.7186502291778728,
          0.7186502291778728,
          0.7619037363783877,
          0.7619037363783877,
          0.7727171131785163,
          0.7727171131785163,
          0.815970620379031,
          0.815970620379031,
          0.8267839971791596,
          0.8267839971791596,
          0.8375973739792885,
          0.8484107507794171,
          0.8700375043796745,
          0.8700375043796745,
          0.8808508811798031,
          0.9024776347800606,
          0.9024776347800606,
          0.9132910115801892,
          0.9457311419805753,
          0.9565445187807039,
          0.9565445187807039,
          0.9673578955808325,
          0.9673578955808325,
          0.98898464918109,
          0.9997980259812186,
          0.9997980259812186,
          0.9997980259812186,
          1.0106114027813473,
          1.0106114027813473,
          1.0322381563816045,
          1.0322381563816045,
          1.0430515331817332,
          1.0430515331817332,
          1.0538649099818622,
          1.0754916635821195,
          1.086305040382248,
          1.0971184171823767,
          1.0971184171823767,
          1.1079317939825053,
          1.1079317939825053,
          1.1079317939825053,
          1.1079317939825053,
          1.129558547582763,
          1.129558547582763,
          1.1403719243828916,
          1.1511853011830202,
          1.1619986779831488,
          1.1619986779831488,
          1.1728120547832774,
          1.1728120547832774
         ]
        }
       ],
       "layout": {
        "legend": {
         "tracegroupgap": 0
        },
        "margin": {
         "t": 60
        },
        "template": {
         "data": {
          "bar": [
           {
            "error_x": {
             "color": "#f2f5fa"
            },
            "error_y": {
             "color": "#f2f5fa"
            },
            "marker": {
             "line": {
              "color": "rgb(17,17,17)",
              "width": 0.5
             },
             "pattern": {
              "fillmode": "overlay",
              "size": 10,
              "solidity": 0.2
             }
            },
            "type": "bar"
           }
          ],
          "barpolar": [
           {
            "marker": {
             "line": {
              "color": "rgb(17,17,17)",
              "width": 0.5
             },
             "pattern": {
              "fillmode": "overlay",
              "size": 10,
              "solidity": 0.2
             }
            },
            "type": "barpolar"
           }
          ],
          "carpet": [
           {
            "aaxis": {
             "endlinecolor": "#A2B1C6",
             "gridcolor": "#506784",
             "linecolor": "#506784",
             "minorgridcolor": "#506784",
             "startlinecolor": "#A2B1C6"
            },
            "baxis": {
             "endlinecolor": "#A2B1C6",
             "gridcolor": "#506784",
             "linecolor": "#506784",
             "minorgridcolor": "#506784",
             "startlinecolor": "#A2B1C6"
            },
            "type": "carpet"
           }
          ],
          "choropleth": [
           {
            "colorbar": {
             "outlinewidth": 0,
             "ticks": ""
            },
            "type": "choropleth"
           }
          ],
          "contour": [
           {
            "colorbar": {
             "outlinewidth": 0,
             "ticks": ""
            },
            "colorscale": [
             [
              0,
              "#0d0887"
             ],
             [
              0.1111111111111111,
              "#46039f"
             ],
             [
              0.2222222222222222,
              "#7201a8"
             ],
             [
              0.3333333333333333,
              "#9c179e"
             ],
             [
              0.4444444444444444,
              "#bd3786"
             ],
             [
              0.5555555555555556,
              "#d8576b"
             ],
             [
              0.6666666666666666,
              "#ed7953"
             ],
             [
              0.7777777777777778,
              "#fb9f3a"
             ],
             [
              0.8888888888888888,
              "#fdca26"
             ],
             [
              1,
              "#f0f921"
             ]
            ],
            "type": "contour"
           }
          ],
          "contourcarpet": [
           {
            "colorbar": {
             "outlinewidth": 0,
             "ticks": ""
            },
            "type": "contourcarpet"
           }
          ],
          "heatmap": [
           {
            "colorbar": {
             "outlinewidth": 0,
             "ticks": ""
            },
            "colorscale": [
             [
              0,
              "#0d0887"
             ],
             [
              0.1111111111111111,
              "#46039f"
             ],
             [
              0.2222222222222222,
              "#7201a8"
             ],
             [
              0.3333333333333333,
              "#9c179e"
             ],
             [
              0.4444444444444444,
              "#bd3786"
             ],
             [
              0.5555555555555556,
              "#d8576b"
             ],
             [
              0.6666666666666666,
              "#ed7953"
             ],
             [
              0.7777777777777778,
              "#fb9f3a"
             ],
             [
              0.8888888888888888,
              "#fdca26"
             ],
             [
              1,
              "#f0f921"
             ]
            ],
            "type": "heatmap"
           }
          ],
          "heatmapgl": [
           {
            "colorbar": {
             "outlinewidth": 0,
             "ticks": ""
            },
            "colorscale": [
             [
              0,
              "#0d0887"
             ],
             [
              0.1111111111111111,
              "#46039f"
             ],
             [
              0.2222222222222222,
              "#7201a8"
             ],
             [
              0.3333333333333333,
              "#9c179e"
             ],
             [
              0.4444444444444444,
              "#bd3786"
             ],
             [
              0.5555555555555556,
              "#d8576b"
             ],
             [
              0.6666666666666666,
              "#ed7953"
             ],
             [
              0.7777777777777778,
              "#fb9f3a"
             ],
             [
              0.8888888888888888,
              "#fdca26"
             ],
             [
              1,
              "#f0f921"
             ]
            ],
            "type": "heatmapgl"
           }
          ],
          "histogram": [
           {
            "marker": {
             "pattern": {
              "fillmode": "overlay",
              "size": 10,
              "solidity": 0.2
             }
            },
            "type": "histogram"
           }
          ],
          "histogram2d": [
           {
            "colorbar": {
             "outlinewidth": 0,
             "ticks": ""
            },
            "colorscale": [
             [
              0,
              "#0d0887"
             ],
             [
              0.1111111111111111,
              "#46039f"
             ],
             [
              0.2222222222222222,
              "#7201a8"
             ],
             [
              0.3333333333333333,
              "#9c179e"
             ],
             [
              0.4444444444444444,
              "#bd3786"
             ],
             [
              0.5555555555555556,
              "#d8576b"
             ],
             [
              0.6666666666666666,
              "#ed7953"
             ],
             [
              0.7777777777777778,
              "#fb9f3a"
             ],
             [
              0.8888888888888888,
              "#fdca26"
             ],
             [
              1,
              "#f0f921"
             ]
            ],
            "type": "histogram2d"
           }
          ],
          "histogram2dcontour": [
           {
            "colorbar": {
             "outlinewidth": 0,
             "ticks": ""
            },
            "colorscale": [
             [
              0,
              "#0d0887"
             ],
             [
              0.1111111111111111,
              "#46039f"
             ],
             [
              0.2222222222222222,
              "#7201a8"
             ],
             [
              0.3333333333333333,
              "#9c179e"
             ],
             [
              0.4444444444444444,
              "#bd3786"
             ],
             [
              0.5555555555555556,
              "#d8576b"
             ],
             [
              0.6666666666666666,
              "#ed7953"
             ],
             [
              0.7777777777777778,
              "#fb9f3a"
             ],
             [
              0.8888888888888888,
              "#fdca26"
             ],
             [
              1,
              "#f0f921"
             ]
            ],
            "type": "histogram2dcontour"
           }
          ],
          "mesh3d": [
           {
            "colorbar": {
             "outlinewidth": 0,
             "ticks": ""
            },
            "type": "mesh3d"
           }
          ],
          "parcoords": [
           {
            "line": {
             "colorbar": {
              "outlinewidth": 0,
              "ticks": ""
             }
            },
            "type": "parcoords"
           }
          ],
          "pie": [
           {
            "automargin": true,
            "type": "pie"
           }
          ],
          "scatter": [
           {
            "marker": {
             "line": {
              "color": "#283442"
             }
            },
            "type": "scatter"
           }
          ],
          "scatter3d": [
           {
            "line": {
             "colorbar": {
              "outlinewidth": 0,
              "ticks": ""
             }
            },
            "marker": {
             "colorbar": {
              "outlinewidth": 0,
              "ticks": ""
             }
            },
            "type": "scatter3d"
           }
          ],
          "scattercarpet": [
           {
            "marker": {
             "colorbar": {
              "outlinewidth": 0,
              "ticks": ""
             }
            },
            "type": "scattercarpet"
           }
          ],
          "scattergeo": [
           {
            "marker": {
             "colorbar": {
              "outlinewidth": 0,
              "ticks": ""
             }
            },
            "type": "scattergeo"
           }
          ],
          "scattergl": [
           {
            "marker": {
             "line": {
              "color": "#283442"
             }
            },
            "type": "scattergl"
           }
          ],
          "scattermapbox": [
           {
            "marker": {
             "colorbar": {
              "outlinewidth": 0,
              "ticks": ""
             }
            },
            "type": "scattermapbox"
           }
          ],
          "scatterpolar": [
           {
            "marker": {
             "colorbar": {
              "outlinewidth": 0,
              "ticks": ""
             }
            },
            "type": "scatterpolar"
           }
          ],
          "scatterpolargl": [
           {
            "marker": {
             "colorbar": {
              "outlinewidth": 0,
              "ticks": ""
             }
            },
            "type": "scatterpolargl"
           }
          ],
          "scatterternary": [
           {
            "marker": {
             "colorbar": {
              "outlinewidth": 0,
              "ticks": ""
             }
            },
            "type": "scatterternary"
           }
          ],
          "surface": [
           {
            "colorbar": {
             "outlinewidth": 0,
             "ticks": ""
            },
            "colorscale": [
             [
              0,
              "#0d0887"
             ],
             [
              0.1111111111111111,
              "#46039f"
             ],
             [
              0.2222222222222222,
              "#7201a8"
             ],
             [
              0.3333333333333333,
              "#9c179e"
             ],
             [
              0.4444444444444444,
              "#bd3786"
             ],
             [
              0.5555555555555556,
              "#d8576b"
             ],
             [
              0.6666666666666666,
              "#ed7953"
             ],
             [
              0.7777777777777778,
              "#fb9f3a"
             ],
             [
              0.8888888888888888,
              "#fdca26"
             ],
             [
              1,
              "#f0f921"
             ]
            ],
            "type": "surface"
           }
          ],
          "table": [
           {
            "cells": {
             "fill": {
              "color": "#506784"
             },
             "line": {
              "color": "rgb(17,17,17)"
             }
            },
            "header": {
             "fill": {
              "color": "#2a3f5f"
             },
             "line": {
              "color": "rgb(17,17,17)"
             }
            },
            "type": "table"
           }
          ]
         },
         "layout": {
          "annotationdefaults": {
           "arrowcolor": "#f2f5fa",
           "arrowhead": 0,
           "arrowwidth": 1
          },
          "autotypenumbers": "strict",
          "coloraxis": {
           "colorbar": {
            "outlinewidth": 0,
            "ticks": ""
           }
          },
          "colorscale": {
           "diverging": [
            [
             0,
             "#8e0152"
            ],
            [
             0.1,
             "#c51b7d"
            ],
            [
             0.2,
             "#de77ae"
            ],
            [
             0.3,
             "#f1b6da"
            ],
            [
             0.4,
             "#fde0ef"
            ],
            [
             0.5,
             "#f7f7f7"
            ],
            [
             0.6,
             "#e6f5d0"
            ],
            [
             0.7,
             "#b8e186"
            ],
            [
             0.8,
             "#7fbc41"
            ],
            [
             0.9,
             "#4d9221"
            ],
            [
             1,
             "#276419"
            ]
           ],
           "sequential": [
            [
             0,
             "#0d0887"
            ],
            [
             0.1111111111111111,
             "#46039f"
            ],
            [
             0.2222222222222222,
             "#7201a8"
            ],
            [
             0.3333333333333333,
             "#9c179e"
            ],
            [
             0.4444444444444444,
             "#bd3786"
            ],
            [
             0.5555555555555556,
             "#d8576b"
            ],
            [
             0.6666666666666666,
             "#ed7953"
            ],
            [
             0.7777777777777778,
             "#fb9f3a"
            ],
            [
             0.8888888888888888,
             "#fdca26"
            ],
            [
             1,
             "#f0f921"
            ]
           ],
           "sequentialminus": [
            [
             0,
             "#0d0887"
            ],
            [
             0.1111111111111111,
             "#46039f"
            ],
            [
             0.2222222222222222,
             "#7201a8"
            ],
            [
             0.3333333333333333,
             "#9c179e"
            ],
            [
             0.4444444444444444,
             "#bd3786"
            ],
            [
             0.5555555555555556,
             "#d8576b"
            ],
            [
             0.6666666666666666,
             "#ed7953"
            ],
            [
             0.7777777777777778,
             "#fb9f3a"
            ],
            [
             0.8888888888888888,
             "#fdca26"
            ],
            [
             1,
             "#f0f921"
            ]
           ]
          },
          "colorway": [
           "#636efa",
           "#EF553B",
           "#00cc96",
           "#ab63fa",
           "#FFA15A",
           "#19d3f3",
           "#FF6692",
           "#B6E880",
           "#FF97FF",
           "#FECB52"
          ],
          "font": {
           "color": "#f2f5fa"
          },
          "geo": {
           "bgcolor": "rgb(17,17,17)",
           "lakecolor": "rgb(17,17,17)",
           "landcolor": "rgb(17,17,17)",
           "showlakes": true,
           "showland": true,
           "subunitcolor": "#506784"
          },
          "hoverlabel": {
           "align": "left"
          },
          "hovermode": "closest",
          "mapbox": {
           "style": "dark"
          },
          "paper_bgcolor": "rgb(17,17,17)",
          "plot_bgcolor": "rgb(17,17,17)",
          "polar": {
           "angularaxis": {
            "gridcolor": "#506784",
            "linecolor": "#506784",
            "ticks": ""
           },
           "bgcolor": "rgb(17,17,17)",
           "radialaxis": {
            "gridcolor": "#506784",
            "linecolor": "#506784",
            "ticks": ""
           }
          },
          "scene": {
           "xaxis": {
            "backgroundcolor": "rgb(17,17,17)",
            "gridcolor": "#506784",
            "gridwidth": 2,
            "linecolor": "#506784",
            "showbackground": true,
            "ticks": "",
            "zerolinecolor": "#C8D4E3"
           },
           "yaxis": {
            "backgroundcolor": "rgb(17,17,17)",
            "gridcolor": "#506784",
            "gridwidth": 2,
            "linecolor": "#506784",
            "showbackground": true,
            "ticks": "",
            "zerolinecolor": "#C8D4E3"
           },
           "zaxis": {
            "backgroundcolor": "rgb(17,17,17)",
            "gridcolor": "#506784",
            "gridwidth": 2,
            "linecolor": "#506784",
            "showbackground": true,
            "ticks": "",
            "zerolinecolor": "#C8D4E3"
           }
          },
          "shapedefaults": {
           "line": {
            "color": "#f2f5fa"
           }
          },
          "sliderdefaults": {
           "bgcolor": "#C8D4E3",
           "bordercolor": "rgb(17,17,17)",
           "borderwidth": 1,
           "tickwidth": 0
          },
          "ternary": {
           "aaxis": {
            "gridcolor": "#506784",
            "linecolor": "#506784",
            "ticks": ""
           },
           "baxis": {
            "gridcolor": "#506784",
            "linecolor": "#506784",
            "ticks": ""
           },
           "bgcolor": "rgb(17,17,17)",
           "caxis": {
            "gridcolor": "#506784",
            "linecolor": "#506784",
            "ticks": ""
           }
          },
          "title": {
           "x": 0.05
          },
          "updatemenudefaults": {
           "bgcolor": "#506784",
           "borderwidth": 0
          },
          "xaxis": {
           "automargin": true,
           "gridcolor": "#283442",
           "linecolor": "#506784",
           "ticks": "",
           "title": {
            "standoff": 15
           },
           "zerolinecolor": "#283442",
           "zerolinewidth": 2
          },
          "yaxis": {
           "automargin": true,
           "gridcolor": "#283442",
           "linecolor": "#506784",
           "ticks": "",
           "title": {
            "standoff": 15
           },
           "zerolinecolor": "#283442",
           "zerolinewidth": 2
          }
         }
        },
        "xaxis": {
         "anchor": "y",
         "domain": [
          0,
          1
         ],
         "title": {
          "text": "EstimatedSalary"
         }
        },
        "yaxis": {
         "anchor": "x",
         "domain": [
          0,
          1
         ],
         "title": {
          "text": "Purchased"
         }
        }
       }
      }
     },
     "metadata": {},
     "output_type": "display_data"
    }
   ],
   "source": [
    "fig = px.scatter(data, 'EstimatedSalary' , 'Purchased')\n",
    "fig.add_trace(go.Scatter(x=data.EstimatedSalary, y=Y_PRED, mode=\"lines\", name=\"Regressão Logística\"))\n",
    "fig.add_trace(go.Scatter(x=data.EstimatedSalary, y=Y_PRED_LINEAR, mode=\"lines\", name=\"Regressão Linear\"))"
   ]
  },
  {
   "cell_type": "code",
   "execution_count": 10,
   "metadata": {},
   "outputs": [],
   "source": [
    "RESIDUALS = data.Purchased - Y_PRED_LINEAR"
   ]
  },
  {
   "cell_type": "code",
   "execution_count": 14,
   "metadata": {},
   "outputs": [
    {
     "data": {
      "application/vnd.plotly.v1+json": {
       "config": {
        "plotlyServerURL": "https://plot.ly"
       },
       "data": [
        {
         "hovertemplate": "x=%{x}<br>index=%{y}<extra></extra>",
         "legendgroup": "",
         "marker": {
          "color": "#636efa",
          "symbol": "circle"
         },
         "mode": "markers",
         "name": "",
         "orientation": "h",
         "showlegend": false,
         "type": "scatter",
         "x": [
          0.28699381323409456,
          0.28699381323409456,
          0.28699381323409456,
          0.28699381323409456,
          0.2761804364339659,
          0.2761804364339659,
          0.2653670596338372,
          0.2653670596338372,
          0.2653670596338372,
          0.2545536828337085,
          0.2545536828337085,
          0.2545536828337085,
          0.2545536828337085,
          0.24374030603357982,
          0.24374030603357982,
          0.23292692923345115,
          0.23292692923345115,
          0.23292692923345115,
          0.22211355243332248,
          0.21130017563319378,
          0.21130017563319378,
          0.21130017563319378,
          0.2004867988330651,
          0.2004867988330651,
          0.2004867988330651,
          0.17886004523280774,
          0.17886004523280774,
          0.17886004523280774,
          0.16804666843267907,
          0.1572332916325504,
          0.1572332916325504,
          0.1572332916325504,
          0.14641991483242167,
          0.14641991483242167,
          0.14641991483242167,
          0.12479316123216433,
          0.12479316123216433,
          0.11397978443203566,
          0.11397978443203566,
          0.10316640763190699,
          0.10316640763190699,
          0.10316640763190699,
          0.09235303083177826,
          0.09235303083177826,
          0.09235303083177826,
          0.08153965403164959,
          0.07072627723152092,
          0.059912900431392246,
          0.049099523631263575,
          0.03828614683113485,
          0.027472770031006177,
          0.027472770031006177,
          0.005846016430748835,
          -0.004967360369379836,
          -0.004967360369379836,
          -0.004967360369379836,
          -0.015780737169508563,
          -0.015780737169508563,
          -0.015780737169508563,
          -0.015780737169508563,
          -0.015780737169508563,
          -0.015780737169508563,
          -0.015780737169508563,
          -0.026594113969637234,
          -0.026594113969637234,
          -0.026594113969637234,
          -0.026594113969637234,
          -0.037407490769765905,
          -0.05903424437002325,
          -0.05903424437002325,
          -0.05903424437002325,
          -0.05903424437002325,
          -0.06984762117015197,
          -0.08066099797028059,
          -0.08066099797028059,
          -0.09147437477040932,
          -0.09147437477040932,
          -0.09147437477040932,
          -0.09147437477040932,
          -0.09147437477040932,
          -0.10228775157053804,
          -0.10228775157053804,
          -0.10228775157053804,
          -0.11310112837066666,
          -0.11310112837066666,
          -0.11310112837066666,
          -0.11310112837066666,
          -0.11310112837066666,
          -0.11310112837066666,
          -0.12391450517079539,
          -0.12391450517079539,
          -0.12391450517079539,
          -0.134727881970924,
          -0.134727881970924,
          -0.134727881970924,
          -0.134727881970924,
          -0.14554125877105273,
          -0.14554125877105273,
          -0.14554125877105273,
          -0.14554125877105273,
          -0.14554125877105273,
          -0.14554125877105273,
          -0.14554125877105273,
          -0.16716801237131007,
          -0.16716801237131007,
          -0.16716801237131007,
          -0.16716801237131007,
          -0.16716801237131007,
          -0.16716801237131007,
          -0.1779813891714388,
          -0.1779813891714388,
          -0.1779813891714388,
          -0.1779813891714388,
          -0.1779813891714388,
          -0.1887947659715674,
          -0.1887947659715674,
          -0.1887947659715674,
          -0.1887947659715674,
          -0.1887947659715674,
          -0.1887947659715674,
          -0.1887947659715674,
          -0.1887947659715674,
          -0.19960814277169614,
          -0.19960814277169614,
          -0.19960814277169614,
          -0.19960814277169614,
          -0.19960814277169614,
          -0.21042151957182487,
          -0.21042151957182487,
          -0.21042151957182487,
          -0.21042151957182487,
          -0.21042151957182487,
          -0.21042151957182487,
          -0.22123489637195348,
          -0.22123489637195348,
          -0.2320482731720822,
          -0.2320482731720822,
          -0.2320482731720822,
          -0.2320482731720822,
          -0.24286164997221082,
          -0.25367502677233955,
          -0.25367502677233955,
          -0.25367502677233955,
          -0.25367502677233955,
          -0.25367502677233955,
          -0.25367502677233955,
          -0.2644884035724683,
          -0.2644884035724683,
          -0.2861151571727256,
          -0.2861151571727256,
          -0.2861151571727256,
          -0.29692853397285424,
          0.692258089227017,
          -0.30774191077298296,
          -0.30774191077298296,
          0.692258089227017,
          -0.3185552875731117,
          -0.3185552875731117,
          -0.3185552875731117,
          -0.3185552875731117,
          -0.3185552875731117,
          -0.3185552875731117,
          0.6814447124268883,
          -0.3185552875731117,
          -0.3185552875731117,
          -0.3293686643732403,
          -0.3293686643732403,
          -0.3293686643732403,
          -0.3293686643732403,
          -0.3293686643732403,
          -0.3293686643732403,
          -0.3293686643732403,
          -0.3293686643732403,
          -0.3293686643732403,
          0.6706313356267597,
          -0.3293686643732403,
          -0.3293686643732403,
          0.659817958826631,
          -0.34018204117336903,
          -0.34018204117336903,
          -0.35099541797349765,
          -0.35099541797349765,
          0.6490045820265024,
          -0.35099541797349765,
          0.6490045820265024,
          -0.35099541797349765,
          -0.35099541797349765,
          -0.3618087947736264,
          -0.3618087947736264,
          -0.3618087947736264,
          0.6381912052263736,
          -0.3618087947736264,
          -0.3618087947736264,
          -0.3618087947736264,
          -0.3618087947736264,
          -0.3618087947736264,
          0.6273778284262449,
          -0.3726221715737551,
          -0.3726221715737551,
          -0.3834355483738837,
          -0.3834355483738837,
          -0.3834355483738837,
          -0.39424892517401244,
          0.6057510748259876,
          -0.40506230197414106,
          -0.40506230197414106,
          -0.40506230197414106,
          -0.40506230197414106,
          -0.40506230197414106,
          -0.40506230197414106,
          -0.40506230197414106,
          0.5949376980258589,
          -0.40506230197414106,
          0.5949376980258589,
          0.5841243212257302,
          0.5624975676254729,
          0.5516841908253441,
          0.5192440604249581,
          0.5084306836248295,
          0.49761730682470073,
          0.49761730682470073,
          0.49761730682470073,
          0.49761730682470073,
          0.4868039300245721,
          0.4759905532244434,
          0.4759905532244434,
          0.4759905532244434,
          0.46517717642431466,
          0.4435504228240573,
          0.42192366922379987,
          0.41111029242367125,
          0.41111029242367125,
          0.41111029242367125,
          0.40029691562354264,
          0.3786701620232852,
          0.36785678522315657,
          0.35704340842302795,
          0.3462300316228991,
          0.3246032780226419,
          0.3246032780226419,
          0.3246032780226419,
          0.3246032780226419,
          0.31378990122251305,
          0.30297652442238443,
          0.2921631476222558,
          0.2921631476222558,
          0.2921631476222558,
          0.2813497708221272,
          0.2813497708221272,
          0.2813497708221272,
          0.2380962636216123,
          0.2380962636216123,
          0.22728288682148368,
          0.22728288682148368,
          0.184029379620969,
          0.184029379620969,
          0.17321600282084038,
          0.17321600282084038,
          0.16240262602071154,
          0.15158924922058292,
          0.12996249562032547,
          0.12996249562032547,
          0.11914911882019685,
          0.0975223652199394,
          0.0975223652199394,
          0.08670898841981078,
          0.054268858019424715,
          0.0434554812192961,
          0.0434554812192961,
          0.032642104419167484,
          0.032642104419167484,
          0.01101535081891003,
          0.00020197401878141452,
          0.00020197401878141452,
          0.00020197401878141452,
          -0.010611402781347312,
          -0.010611402781347312,
          -0.032238156381604544,
          -0.032238156381604544,
          -0.04305153318173316,
          -0.04305153318173316,
          -0.05386490998186222,
          -0.07549166358211945,
          -0.08630504038224807,
          -0.09711841718237668,
          -0.09711841718237668,
          -0.1079317939825053,
          -0.1079317939825053,
          -0.1079317939825053,
          -0.1079317939825053,
          -0.12955854758276297,
          -0.12955854758276297,
          -0.1403719243828916,
          -0.1511853011830202,
          -0.16199867798314882,
          -0.16199867798314882,
          -0.17281205478327744,
          -0.17281205478327744
         ],
         "xaxis": "x",
         "y": [
          0,
          1,
          2,
          3,
          4,
          5,
          6,
          7,
          8,
          9,
          10,
          11,
          12,
          13,
          14,
          15,
          16,
          17,
          18,
          19,
          20,
          21,
          22,
          23,
          24,
          25,
          26,
          27,
          28,
          29,
          30,
          31,
          32,
          33,
          34,
          35,
          36,
          37,
          38,
          39,
          40,
          41,
          42,
          43,
          44,
          45,
          46,
          47,
          48,
          49,
          50,
          51,
          52,
          53,
          54,
          55,
          56,
          57,
          58,
          59,
          60,
          61,
          62,
          63,
          64,
          65,
          66,
          67,
          68,
          69,
          70,
          71,
          72,
          73,
          74,
          75,
          76,
          77,
          78,
          79,
          80,
          81,
          82,
          83,
          84,
          85,
          86,
          87,
          88,
          89,
          90,
          91,
          92,
          93,
          94,
          95,
          96,
          97,
          98,
          99,
          100,
          101,
          102,
          103,
          104,
          105,
          106,
          107,
          108,
          109,
          110,
          111,
          112,
          113,
          114,
          115,
          116,
          117,
          118,
          119,
          120,
          121,
          122,
          123,
          124,
          125,
          126,
          127,
          128,
          129,
          130,
          131,
          132,
          133,
          134,
          135,
          136,
          137,
          138,
          139,
          140,
          141,
          142,
          143,
          144,
          145,
          146,
          147,
          148,
          149,
          150,
          151,
          152,
          153,
          154,
          155,
          156,
          157,
          158,
          159,
          160,
          161,
          162,
          163,
          164,
          165,
          166,
          167,
          168,
          169,
          170,
          171,
          172,
          173,
          174,
          175,
          176,
          177,
          178,
          179,
          180,
          181,
          182,
          183,
          184,
          185,
          186,
          187,
          188,
          189,
          190,
          191,
          192,
          193,
          194,
          195,
          196,
          197,
          198,
          199,
          200,
          201,
          202,
          203,
          204,
          205,
          206,
          207,
          208,
          209,
          210,
          211,
          212,
          213,
          214,
          215,
          216,
          217,
          218,
          219,
          220,
          221,
          222,
          223,
          224,
          225,
          226,
          227,
          228,
          229,
          230,
          231,
          232,
          233,
          234,
          235,
          236,
          237,
          238,
          239,
          240,
          241,
          242,
          243,
          244,
          245,
          246,
          247,
          248,
          249,
          250,
          251,
          252,
          253,
          254,
          255,
          256,
          257,
          258,
          259,
          260,
          261,
          262,
          263,
          264,
          265,
          266,
          267,
          268,
          269,
          270,
          271,
          272,
          273,
          274,
          275,
          276,
          277,
          278,
          279,
          280,
          281,
          282,
          283,
          284,
          285,
          286,
          287,
          288,
          289,
          290,
          291,
          292,
          293,
          294,
          295,
          296,
          297
         ],
         "yaxis": "y"
        }
       ],
       "layout": {
        "legend": {
         "tracegroupgap": 0
        },
        "margin": {
         "t": 60
        },
        "template": {
         "data": {
          "bar": [
           {
            "error_x": {
             "color": "#f2f5fa"
            },
            "error_y": {
             "color": "#f2f5fa"
            },
            "marker": {
             "line": {
              "color": "rgb(17,17,17)",
              "width": 0.5
             },
             "pattern": {
              "fillmode": "overlay",
              "size": 10,
              "solidity": 0.2
             }
            },
            "type": "bar"
           }
          ],
          "barpolar": [
           {
            "marker": {
             "line": {
              "color": "rgb(17,17,17)",
              "width": 0.5
             },
             "pattern": {
              "fillmode": "overlay",
              "size": 10,
              "solidity": 0.2
             }
            },
            "type": "barpolar"
           }
          ],
          "carpet": [
           {
            "aaxis": {
             "endlinecolor": "#A2B1C6",
             "gridcolor": "#506784",
             "linecolor": "#506784",
             "minorgridcolor": "#506784",
             "startlinecolor": "#A2B1C6"
            },
            "baxis": {
             "endlinecolor": "#A2B1C6",
             "gridcolor": "#506784",
             "linecolor": "#506784",
             "minorgridcolor": "#506784",
             "startlinecolor": "#A2B1C6"
            },
            "type": "carpet"
           }
          ],
          "choropleth": [
           {
            "colorbar": {
             "outlinewidth": 0,
             "ticks": ""
            },
            "type": "choropleth"
           }
          ],
          "contour": [
           {
            "colorbar": {
             "outlinewidth": 0,
             "ticks": ""
            },
            "colorscale": [
             [
              0,
              "#0d0887"
             ],
             [
              0.1111111111111111,
              "#46039f"
             ],
             [
              0.2222222222222222,
              "#7201a8"
             ],
             [
              0.3333333333333333,
              "#9c179e"
             ],
             [
              0.4444444444444444,
              "#bd3786"
             ],
             [
              0.5555555555555556,
              "#d8576b"
             ],
             [
              0.6666666666666666,
              "#ed7953"
             ],
             [
              0.7777777777777778,
              "#fb9f3a"
             ],
             [
              0.8888888888888888,
              "#fdca26"
             ],
             [
              1,
              "#f0f921"
             ]
            ],
            "type": "contour"
           }
          ],
          "contourcarpet": [
           {
            "colorbar": {
             "outlinewidth": 0,
             "ticks": ""
            },
            "type": "contourcarpet"
           }
          ],
          "heatmap": [
           {
            "colorbar": {
             "outlinewidth": 0,
             "ticks": ""
            },
            "colorscale": [
             [
              0,
              "#0d0887"
             ],
             [
              0.1111111111111111,
              "#46039f"
             ],
             [
              0.2222222222222222,
              "#7201a8"
             ],
             [
              0.3333333333333333,
              "#9c179e"
             ],
             [
              0.4444444444444444,
              "#bd3786"
             ],
             [
              0.5555555555555556,
              "#d8576b"
             ],
             [
              0.6666666666666666,
              "#ed7953"
             ],
             [
              0.7777777777777778,
              "#fb9f3a"
             ],
             [
              0.8888888888888888,
              "#fdca26"
             ],
             [
              1,
              "#f0f921"
             ]
            ],
            "type": "heatmap"
           }
          ],
          "heatmapgl": [
           {
            "colorbar": {
             "outlinewidth": 0,
             "ticks": ""
            },
            "colorscale": [
             [
              0,
              "#0d0887"
             ],
             [
              0.1111111111111111,
              "#46039f"
             ],
             [
              0.2222222222222222,
              "#7201a8"
             ],
             [
              0.3333333333333333,
              "#9c179e"
             ],
             [
              0.4444444444444444,
              "#bd3786"
             ],
             [
              0.5555555555555556,
              "#d8576b"
             ],
             [
              0.6666666666666666,
              "#ed7953"
             ],
             [
              0.7777777777777778,
              "#fb9f3a"
             ],
             [
              0.8888888888888888,
              "#fdca26"
             ],
             [
              1,
              "#f0f921"
             ]
            ],
            "type": "heatmapgl"
           }
          ],
          "histogram": [
           {
            "marker": {
             "pattern": {
              "fillmode": "overlay",
              "size": 10,
              "solidity": 0.2
             }
            },
            "type": "histogram"
           }
          ],
          "histogram2d": [
           {
            "colorbar": {
             "outlinewidth": 0,
             "ticks": ""
            },
            "colorscale": [
             [
              0,
              "#0d0887"
             ],
             [
              0.1111111111111111,
              "#46039f"
             ],
             [
              0.2222222222222222,
              "#7201a8"
             ],
             [
              0.3333333333333333,
              "#9c179e"
             ],
             [
              0.4444444444444444,
              "#bd3786"
             ],
             [
              0.5555555555555556,
              "#d8576b"
             ],
             [
              0.6666666666666666,
              "#ed7953"
             ],
             [
              0.7777777777777778,
              "#fb9f3a"
             ],
             [
              0.8888888888888888,
              "#fdca26"
             ],
             [
              1,
              "#f0f921"
             ]
            ],
            "type": "histogram2d"
           }
          ],
          "histogram2dcontour": [
           {
            "colorbar": {
             "outlinewidth": 0,
             "ticks": ""
            },
            "colorscale": [
             [
              0,
              "#0d0887"
             ],
             [
              0.1111111111111111,
              "#46039f"
             ],
             [
              0.2222222222222222,
              "#7201a8"
             ],
             [
              0.3333333333333333,
              "#9c179e"
             ],
             [
              0.4444444444444444,
              "#bd3786"
             ],
             [
              0.5555555555555556,
              "#d8576b"
             ],
             [
              0.6666666666666666,
              "#ed7953"
             ],
             [
              0.7777777777777778,
              "#fb9f3a"
             ],
             [
              0.8888888888888888,
              "#fdca26"
             ],
             [
              1,
              "#f0f921"
             ]
            ],
            "type": "histogram2dcontour"
           }
          ],
          "mesh3d": [
           {
            "colorbar": {
             "outlinewidth": 0,
             "ticks": ""
            },
            "type": "mesh3d"
           }
          ],
          "parcoords": [
           {
            "line": {
             "colorbar": {
              "outlinewidth": 0,
              "ticks": ""
             }
            },
            "type": "parcoords"
           }
          ],
          "pie": [
           {
            "automargin": true,
            "type": "pie"
           }
          ],
          "scatter": [
           {
            "marker": {
             "line": {
              "color": "#283442"
             }
            },
            "type": "scatter"
           }
          ],
          "scatter3d": [
           {
            "line": {
             "colorbar": {
              "outlinewidth": 0,
              "ticks": ""
             }
            },
            "marker": {
             "colorbar": {
              "outlinewidth": 0,
              "ticks": ""
             }
            },
            "type": "scatter3d"
           }
          ],
          "scattercarpet": [
           {
            "marker": {
             "colorbar": {
              "outlinewidth": 0,
              "ticks": ""
             }
            },
            "type": "scattercarpet"
           }
          ],
          "scattergeo": [
           {
            "marker": {
             "colorbar": {
              "outlinewidth": 0,
              "ticks": ""
             }
            },
            "type": "scattergeo"
           }
          ],
          "scattergl": [
           {
            "marker": {
             "line": {
              "color": "#283442"
             }
            },
            "type": "scattergl"
           }
          ],
          "scattermapbox": [
           {
            "marker": {
             "colorbar": {
              "outlinewidth": 0,
              "ticks": ""
             }
            },
            "type": "scattermapbox"
           }
          ],
          "scatterpolar": [
           {
            "marker": {
             "colorbar": {
              "outlinewidth": 0,
              "ticks": ""
             }
            },
            "type": "scatterpolar"
           }
          ],
          "scatterpolargl": [
           {
            "marker": {
             "colorbar": {
              "outlinewidth": 0,
              "ticks": ""
             }
            },
            "type": "scatterpolargl"
           }
          ],
          "scatterternary": [
           {
            "marker": {
             "colorbar": {
              "outlinewidth": 0,
              "ticks": ""
             }
            },
            "type": "scatterternary"
           }
          ],
          "surface": [
           {
            "colorbar": {
             "outlinewidth": 0,
             "ticks": ""
            },
            "colorscale": [
             [
              0,
              "#0d0887"
             ],
             [
              0.1111111111111111,
              "#46039f"
             ],
             [
              0.2222222222222222,
              "#7201a8"
             ],
             [
              0.3333333333333333,
              "#9c179e"
             ],
             [
              0.4444444444444444,
              "#bd3786"
             ],
             [
              0.5555555555555556,
              "#d8576b"
             ],
             [
              0.6666666666666666,
              "#ed7953"
             ],
             [
              0.7777777777777778,
              "#fb9f3a"
             ],
             [
              0.8888888888888888,
              "#fdca26"
             ],
             [
              1,
              "#f0f921"
             ]
            ],
            "type": "surface"
           }
          ],
          "table": [
           {
            "cells": {
             "fill": {
              "color": "#506784"
             },
             "line": {
              "color": "rgb(17,17,17)"
             }
            },
            "header": {
             "fill": {
              "color": "#2a3f5f"
             },
             "line": {
              "color": "rgb(17,17,17)"
             }
            },
            "type": "table"
           }
          ]
         },
         "layout": {
          "annotationdefaults": {
           "arrowcolor": "#f2f5fa",
           "arrowhead": 0,
           "arrowwidth": 1
          },
          "autotypenumbers": "strict",
          "coloraxis": {
           "colorbar": {
            "outlinewidth": 0,
            "ticks": ""
           }
          },
          "colorscale": {
           "diverging": [
            [
             0,
             "#8e0152"
            ],
            [
             0.1,
             "#c51b7d"
            ],
            [
             0.2,
             "#de77ae"
            ],
            [
             0.3,
             "#f1b6da"
            ],
            [
             0.4,
             "#fde0ef"
            ],
            [
             0.5,
             "#f7f7f7"
            ],
            [
             0.6,
             "#e6f5d0"
            ],
            [
             0.7,
             "#b8e186"
            ],
            [
             0.8,
             "#7fbc41"
            ],
            [
             0.9,
             "#4d9221"
            ],
            [
             1,
             "#276419"
            ]
           ],
           "sequential": [
            [
             0,
             "#0d0887"
            ],
            [
             0.1111111111111111,
             "#46039f"
            ],
            [
             0.2222222222222222,
             "#7201a8"
            ],
            [
             0.3333333333333333,
             "#9c179e"
            ],
            [
             0.4444444444444444,
             "#bd3786"
            ],
            [
             0.5555555555555556,
             "#d8576b"
            ],
            [
             0.6666666666666666,
             "#ed7953"
            ],
            [
             0.7777777777777778,
             "#fb9f3a"
            ],
            [
             0.8888888888888888,
             "#fdca26"
            ],
            [
             1,
             "#f0f921"
            ]
           ],
           "sequentialminus": [
            [
             0,
             "#0d0887"
            ],
            [
             0.1111111111111111,
             "#46039f"
            ],
            [
             0.2222222222222222,
             "#7201a8"
            ],
            [
             0.3333333333333333,
             "#9c179e"
            ],
            [
             0.4444444444444444,
             "#bd3786"
            ],
            [
             0.5555555555555556,
             "#d8576b"
            ],
            [
             0.6666666666666666,
             "#ed7953"
            ],
            [
             0.7777777777777778,
             "#fb9f3a"
            ],
            [
             0.8888888888888888,
             "#fdca26"
            ],
            [
             1,
             "#f0f921"
            ]
           ]
          },
          "colorway": [
           "#636efa",
           "#EF553B",
           "#00cc96",
           "#ab63fa",
           "#FFA15A",
           "#19d3f3",
           "#FF6692",
           "#B6E880",
           "#FF97FF",
           "#FECB52"
          ],
          "font": {
           "color": "#f2f5fa"
          },
          "geo": {
           "bgcolor": "rgb(17,17,17)",
           "lakecolor": "rgb(17,17,17)",
           "landcolor": "rgb(17,17,17)",
           "showlakes": true,
           "showland": true,
           "subunitcolor": "#506784"
          },
          "hoverlabel": {
           "align": "left"
          },
          "hovermode": "closest",
          "mapbox": {
           "style": "dark"
          },
          "paper_bgcolor": "rgb(17,17,17)",
          "plot_bgcolor": "rgb(17,17,17)",
          "polar": {
           "angularaxis": {
            "gridcolor": "#506784",
            "linecolor": "#506784",
            "ticks": ""
           },
           "bgcolor": "rgb(17,17,17)",
           "radialaxis": {
            "gridcolor": "#506784",
            "linecolor": "#506784",
            "ticks": ""
           }
          },
          "scene": {
           "xaxis": {
            "backgroundcolor": "rgb(17,17,17)",
            "gridcolor": "#506784",
            "gridwidth": 2,
            "linecolor": "#506784",
            "showbackground": true,
            "ticks": "",
            "zerolinecolor": "#C8D4E3"
           },
           "yaxis": {
            "backgroundcolor": "rgb(17,17,17)",
            "gridcolor": "#506784",
            "gridwidth": 2,
            "linecolor": "#506784",
            "showbackground": true,
            "ticks": "",
            "zerolinecolor": "#C8D4E3"
           },
           "zaxis": {
            "backgroundcolor": "rgb(17,17,17)",
            "gridcolor": "#506784",
            "gridwidth": 2,
            "linecolor": "#506784",
            "showbackground": true,
            "ticks": "",
            "zerolinecolor": "#C8D4E3"
           }
          },
          "shapedefaults": {
           "line": {
            "color": "#f2f5fa"
           }
          },
          "sliderdefaults": {
           "bgcolor": "#C8D4E3",
           "bordercolor": "rgb(17,17,17)",
           "borderwidth": 1,
           "tickwidth": 0
          },
          "ternary": {
           "aaxis": {
            "gridcolor": "#506784",
            "linecolor": "#506784",
            "ticks": ""
           },
           "baxis": {
            "gridcolor": "#506784",
            "linecolor": "#506784",
            "ticks": ""
           },
           "bgcolor": "rgb(17,17,17)",
           "caxis": {
            "gridcolor": "#506784",
            "linecolor": "#506784",
            "ticks": ""
           }
          },
          "title": {
           "x": 0.05
          },
          "updatemenudefaults": {
           "bgcolor": "#506784",
           "borderwidth": 0
          },
          "xaxis": {
           "automargin": true,
           "gridcolor": "#283442",
           "linecolor": "#506784",
           "ticks": "",
           "title": {
            "standoff": 15
           },
           "zerolinecolor": "#283442",
           "zerolinewidth": 2
          },
          "yaxis": {
           "automargin": true,
           "gridcolor": "#283442",
           "linecolor": "#506784",
           "ticks": "",
           "title": {
            "standoff": 15
           },
           "zerolinecolor": "#283442",
           "zerolinewidth": 2
          }
         }
        },
        "xaxis": {
         "anchor": "y",
         "domain": [
          0,
          1
         ],
         "title": {
          "text": "x"
         }
        },
        "yaxis": {
         "anchor": "x",
         "domain": [
          0,
          1
         ],
         "title": {
          "text": "index"
         }
        }
       }
      }
     },
     "metadata": {},
     "output_type": "display_data"
    },
    {
     "ename": "",
     "evalue": "",
     "output_type": "error",
     "traceback": [
      "\u001b[1;31mThe Kernel crashed while executing code in the current cell or a previous cell. \n",
      "\u001b[1;31mPlease review the code in the cell(s) to identify a possible cause of the failure. \n",
      "\u001b[1;31mClick <a href='https://aka.ms/vscodeJupyterKernelCrash'>here</a> for more info. \n",
      "\u001b[1;31mView Jupyter <a href='command:jupyter.viewOutput'>log</a> for further details."
     ]
    }
   ],
   "source": [
    "px.scatter(Y_PRED_LINEAR, RESIDUALS)"
   ]
  },
  {
   "cell_type": "code",
   "execution_count": null,
   "metadata": {},
   "outputs": [],
   "source": [
    "px.histogram(RESIDUALS)"
   ]
  }
 ],
 "metadata": {
  "kernelspec": {
   "display_name": "venv",
   "language": "python",
   "name": "python3"
  },
  "language_info": {
   "codemirror_mode": {
    "name": "ipython",
    "version": 3
   },
   "file_extension": ".py",
   "mimetype": "text/x-python",
   "name": "python",
   "nbconvert_exporter": "python",
   "pygments_lexer": "ipython3",
   "version": "3.10.0"
  }
 },
 "nbformat": 4,
 "nbformat_minor": 2
}
